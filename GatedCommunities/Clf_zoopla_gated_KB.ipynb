{
 "cells": [
  {
   "cell_type": "code",
   "execution_count": 1,
   "metadata": {
    "collapsed": false
   },
   "outputs": [
    {
     "name": "stderr",
     "output_type": "stream",
     "text": [
      "/home/kim/anaconda3/lib/python3.5/site-packages/nltk/twitter/__init__.py:20: UserWarning: The twython library has not been installed. Some functionality from the twitter package will not be available.\n",
      "  warnings.warn(\"The twython library has not been installed. \"\n"
     ]
    }
   ],
   "source": [
    "import pandas as pd\n",
    "from pandas import Timestamp\n",
    "import statsmodels\n",
    "from operator import itemgetter\n",
    "import string\n",
    "import numpy as np\n",
    "from collections import Counter\n",
    "from sklearn.metrics import accuracy_score,classification_report\n",
    "from nltk.sentiment.vader import SentimentIntensityAnalyzer\n",
    "from nltk.corpus import stopwords as sw\n",
    "from nltk.corpus import wordnet as wn\n",
    "from nltk import wordpunct_tokenize\n",
    "from nltk import WordNetLemmatizer\n",
    "from nltk import sent_tokenize\n",
    "from nltk import pos_tag\n",
    "from nltk import bigrams\n",
    "from nltk import word_tokenize\n",
    "from nltk.sentiment.util import mark_negation\n",
    "from sklearn.feature_extraction.text import CountVectorizer\n",
    "from sklearn.feature_extraction.text import TfidfVectorizer\n",
    "from sklearn.feature_extraction.text import TfidfTransformer\n",
    "from sklearn.pipeline import Pipeline\n",
    "from sklearn.svm import LinearSVC\n",
    "from sklearn.base import TransformerMixin\n",
    "from sklearn.naive_bayes import MultinomialNB\n",
    "from sklearn.linear_model import LogisticRegression\n",
    "from sklearn.linear_model import SGDClassifier\n",
    "from sklearn.base import BaseEstimator, TransformerMixin\n",
    "from sklearn.model_selection import cross_val_score\n",
    "from sklearn.model_selection import train_test_split\n",
    "from sklearn.metrics import classification_report\n",
    "from sklearn.ensemble import RandomForestClassifier\n",
    "from sklearn.neural_network import MLPClassifier\n"
   ]
  },
  {
   "cell_type": "markdown",
   "metadata": {},
   "source": [
    "### Create pipelines for each classifier (to be used further down)"
   ]
  },
  {
   "cell_type": "code",
   "execution_count": 2,
   "metadata": {
    "collapsed": false
   },
   "outputs": [],
   "source": [
    "# 1) LOGISTIC REGRESSION\n",
    "trigram_clf = Pipeline([\n",
    "\n",
    "\n",
    "    ('vectorizer', CountVectorizer(analyzer=\"word\",\n",
    "                                   ngram_range=(1, 3),\n",
    "                                   tokenizer=word_tokenize,         # ! Comment line to include mark_negation and uncomment next line\n",
    "                                   #tokenizer=lambda text: mark_negation(word_tokenize(text)),\n",
    "                                   #preprocessor=lambda text: text.replace(\"<br />\", \" \"),\n",
    "                                   max_features=10000)),\n",
    "    ('transformer', TfidfTransformer()) ,    # or any other classifier deemed useful!\n",
    "    ('classifier', LogisticRegression(C=2.0, penalty='l2'))     # or any other classifier deemed useful!\n",
    "    \n",
    "   \n",
    "])\n",
    "\n",
    "# 2) SUPPORT VECTOR MACHINES\n",
    "svm_trigram_clf = Pipeline([\n",
    "\n",
    "\n",
    "    ('vectorizer', CountVectorizer(analyzer=\"word\",\n",
    "                                   ngram_range=(1, 3),\n",
    "                                   tokenizer=word_tokenize,         # ! Comment line to include mark_negation and uncomment next line\n",
    "                                   #tokenizer=lambda text: mark_negation(word_tokenize(text)),\n",
    "                                   #preprocessor=lambda text: text.replace(\"<br />\", \" \"),\n",
    "                                   max_features=10000)),\n",
    "\n",
    "    ('classifier', LinearSVC())     # or any other classifier deemed useful!\n",
    "    \n",
    "   \n",
    "])\n",
    "\n",
    "\n",
    "# 3) NAIVE BAYES\n",
    "NB_trigram_clf = Pipeline([\n",
    "\n",
    "\n",
    "    ('vectorizer', CountVectorizer(analyzer=\"word\",\n",
    "                                   ngram_range=(1, 3),\n",
    "                                   tokenizer=word_tokenize,         # ! Comment line to include mark_negation and uncomment next line\n",
    "                                   #tokenizer=lambda text: mark_negation(word_tokenize(text)),\n",
    "                                   #preprocessor=lambda text: text.replace(\"<br />\", \" \"),\n",
    "                                   max_features=10000)),\n",
    "\n",
    "    ('classifier', MultinomialNB())     # or any other classifier deemed useful!\n",
    "    \n",
    "   \n",
    "])\n",
    "\n",
    "# 4) STOCHASTIC GRADIENT DESCENT REGRESSION\n",
    "SGD_trigram_clf = Pipeline([\n",
    "\n",
    "\n",
    "    ('vectorizer', CountVectorizer(analyzer=\"word\",\n",
    "                                   ngram_range=(1, 3),\n",
    "                                   tokenizer=word_tokenize,         # ! Comment line to include mark_negation and uncomment next line\n",
    "                                   #tokenizer=lambda text: mark_negation(word_tokenize(text)),\n",
    "                                   #preprocessor=lambda text: text.replace(\"<br />\", \" \"),\n",
    "                                   max_features=10000)),\n",
    "\n",
    "    ('classifier', SGDClassifier())     # or any other classifier deemed useful!\n",
    "    \n",
    "   \n",
    "])\n",
    "\n",
    "# 5) RANDOM FORESTS\n",
    "random_clf = Pipeline([\n",
    "\n",
    "\n",
    "    ('vectorizer', CountVectorizer(analyzer=\"word\",\n",
    "                                   ngram_range=(1, 2),\n",
    "                                   tokenizer=word_tokenize,         # ! Comment line to include mark_negation and uncomment next line\n",
    "                                   #tokenizer=lambda text: mark_negation(word_tokenize(text)),\n",
    "                                   #preprocessor=lambda text: text.replace(\"<br />\", \" \"),\n",
    "                                   max_features=10000)),\n",
    "    ('transformer', TfidfTransformer()) ,    # or any other classifier deemed useful!\n",
    "    ('classifier', RandomForestClassifier())     # or any other classifier deemed useful!\n",
    "    \n",
    "   \n",
    "])\n",
    "\n",
    "\n",
    "#6) NEURAL NETWORKS\n",
    "NN_trigram_clf = Pipeline([\n",
    "\n",
    "\n",
    "    ('vectorizer', CountVectorizer(analyzer=\"word\",\n",
    "                                   ngram_range=(1, 3),\n",
    "                                   tokenizer=word_tokenize,         # ! Comment line to include mark_negation and uncomment next line\n",
    "                                   #tokenizer=lambda text: mark_negation(word_tokenize(text)),\n",
    "                                   #preprocessor=lambda text: text.replace(\"<br />\", \" \"),\n",
    "                                   max_features=10000)),\n",
    "\n",
    "    ('transformer', TfidfTransformer()),\n",
    "    ('classifier', MLPClassifier(learning_rate_init=0.01,\n",
    "                    hidden_layer_sizes=10, max_iter=100, activation='tanh', verbose=100,\n",
    "                    early_stopping=True, validation_fraction=0.05, alpha=1e-10)) \n",
    "   \n",
    "\n",
    "   \n",
    "])\n",
    "\n",
    "def show_most_informative_features(model, text=None, n=20):\n",
    "    \"\"\"\n",
    "    Accepts a Pipeline with a classifer and a TfidfVectorizer and computes\n",
    "    the n most informative features of the model. If text is given, then will\n",
    "    compute the most informative features for classifying that text.\n",
    "    Note that this function will only work on linear models with coefs_\n",
    "    \"\"\"\n",
    "    # Extract the vectorizer and the classifier from the pipeline\n",
    "    vectorizer = model.named_steps['vectorizer']\n",
    "    classifier = model.named_steps['classifier']\n",
    "\n",
    "    # Check to make sure that we can perform this computation\n",
    "    if not hasattr(classifier, 'coef_'):\n",
    "        raise TypeError(\n",
    "            \"Cannot compute most informative features on {} model.\".format(\n",
    "                classifier.__class__.__name__\n",
    "            )\n",
    "        )\n",
    "\n",
    "    if text is not None:\n",
    "        # Compute the coefficients for the text\n",
    "        tvec = model.transform([text]).toarray()\n",
    "    else:\n",
    "        # Otherwise simply use the coefficients\n",
    "        tvec = classifier.coef_\n",
    "\n",
    "    # Zip the feature names with the coefs and sort\n",
    "    coefs = sorted(\n",
    "        zip(tvec[0], vectorizer.get_feature_names()),\n",
    "        key=itemgetter(0), reverse=True\n",
    "    )\n",
    "\n",
    "    topn  = zip(coefs[:n], coefs[:-(n+1):-1])\n",
    "\n",
    "    # Create the output string to return\n",
    "    output = []\n",
    "\n",
    "    # If text, add the predicted value to the output.\n",
    "    if text is not None:\n",
    "        output.append(\"\\\"{}\\\"\".format(text))\n",
    "        output.append(\"Classified as: {}\".format(model.predict([text])))\n",
    "        output.append(\"\")\n",
    "\n",
    "    # Create two columns with most negative and most positive features.\n",
    "    for (cp, fnp), (cn, fnn) in topn:\n",
    "        output.append(\n",
    "            \"{:0.4f}{: >15}    {:0.4f}{: >15}\".format(cp, fnp, cn, fnn)\n",
    "        )\n",
    "\n",
    "    return \"\\n\".join(output)\n",
    "\n"
   ]
  },
  {
   "cell_type": "code",
   "execution_count": 3,
   "metadata": {
    "collapsed": false
   },
   "outputs": [
    {
     "name": "stderr",
     "output_type": "stream",
     "text": [
      "/home/kim/anaconda3/lib/python3.5/site-packages/IPython/core/interactiveshell.py:2717: DtypeWarning: Columns (16) have mixed types. Specify dtype option on import or set low_memory=False.\n",
      "  interactivity=interactivity, compiler=compiler, result=result)\n"
     ]
    }
   ],
   "source": [
    "wf= pd.read_csv('wf_latlong.csv', encoding='latin1')"
   ]
  },
  {
   "cell_type": "code",
   "execution_count": 4,
   "metadata": {
    "collapsed": true
   },
   "outputs": [],
   "source": [
    "wflabelfalse = pd.DataFrame"
   ]
  },
  {
   "cell_type": "markdown",
   "metadata": {},
   "source": [
    "#### Below: Get rid of listings with missing descriptions (cannot use these)"
   ]
  },
  {
   "cell_type": "code",
   "execution_count": 5,
   "metadata": {
    "collapsed": false
   },
   "outputs": [],
   "source": [
    "wf= wf[wf['description_parsed'] != 'missing']"
   ]
  },
  {
   "cell_type": "markdown",
   "metadata": {},
   "source": [
    "#### Below: Creating a subset of records that are not gated communities in order to even up the training set. To do this, we negated the search terms used to generate gated communities and also getting rid of those which contain words like concierge which are likely to be found in a gated community (initial negation using the earlier search terms was not enough)"
   ]
  },
  {
   "cell_type": "code",
   "execution_count": 6,
   "metadata": {
    "collapsed": true
   },
   "outputs": [],
   "source": [
    "wflabelfalse = wf[~wf.description_parsed.str.contains('gated community|concierge|development is gated|gated access|gated development|gated cul-de-sac|private gated mews')]"
   ]
  },
  {
   "cell_type": "code",
   "execution_count": 7,
   "metadata": {
    "collapsed": false
   },
   "outputs": [
    {
     "data": {
      "text/plain": [
       "(177631, 33)"
      ]
     },
     "execution_count": 7,
     "metadata": {},
     "output_type": "execute_result"
    }
   ],
   "source": [
    "wflabelfalse.shape"
   ]
  },
  {
   "cell_type": "code",
   "execution_count": 8,
   "metadata": {
    "collapsed": true
   },
   "outputs": [],
   "source": [
    "wfsamplefalse = wflabelfalse.sample(n=1200)"
   ]
  },
  {
   "cell_type": "code",
   "execution_count": 9,
   "metadata": {
    "collapsed": true
   },
   "outputs": [],
   "source": [
    "wfsamplefalse['label'] = 0"
   ]
  },
  {
   "cell_type": "code",
   "execution_count": 10,
   "metadata": {
    "collapsed": true
   },
   "outputs": [],
   "source": [
    "# wfsamplefalse.head()"
   ]
  },
  {
   "cell_type": "code",
   "execution_count": 11,
   "metadata": {
    "collapsed": true
   },
   "outputs": [],
   "source": [
    "df3 =  wfsamplefalse[['description_parsed','label']]"
   ]
  },
  {
   "cell_type": "code",
   "execution_count": 12,
   "metadata": {
    "collapsed": false
   },
   "outputs": [],
   "source": [
    "df3.to_csv('df3.csv')"
   ]
  },
  {
   "cell_type": "code",
   "execution_count": 13,
   "metadata": {
    "collapsed": false
   },
   "outputs": [
    {
     "data": {
      "text/plain": [
       "149603    a detached 3 double bedroom property with gara...\n",
       "Name: description_parsed, dtype: object"
      ]
     },
     "execution_count": 13,
     "metadata": {},
     "output_type": "execute_result"
    }
   ],
   "source": [
    "pd.set_option(\"max_colwidth\", 50)\n",
    "df3.description_parsed[111:112]"
   ]
  },
  {
   "cell_type": "markdown",
   "metadata": {},
   "source": [
    "#### Want to check this subset as the feature selection further down suggested that modern development and popular development are not good indicators of gated communities, so want to ensure this subest is not falsely informing results."
   ]
  },
  {
   "cell_type": "code",
   "execution_count": 14,
   "metadata": {
    "collapsed": false
   },
   "outputs": [],
   "source": [
    "testlabel = df3[df3.description_parsed.str.contains('modern development|popular development')]\n",
    "# testlabel.head()"
   ]
  },
  {
   "cell_type": "markdown",
   "metadata": {},
   "source": [
    "Below: Function to convert words 'true' and 'false' to binary (sometimes labelled true or false in the clerical review but need binary)"
   ]
  },
  {
   "cell_type": "code",
   "execution_count": 15,
   "metadata": {
    "collapsed": true
   },
   "outputs": [],
   "source": [
    "def truefalse_to_binary(input):\n",
    "\n",
    "  \n",
    "\n",
    "    if (input == 'True') or (input == 'T') or (input == 'TRUE'):\n",
    "        output = 1\n",
    "    else:\n",
    "        output = 0\n",
    "\n",
    "\n",
    "    return pd.Series(dict(output=output))\n"
   ]
  },
  {
   "cell_type": "code",
   "execution_count": 16,
   "metadata": {
    "collapsed": false
   },
   "outputs": [],
   "source": [
    "#load your dataframe here : expecting a text column and a label column.. change vars \n",
    "\n",
    "df1 = pd.read_csv('gated_clericreview2.csv',encoding = 'latin1')\n",
    "df2 = pd.read_csv('samplegated_clerical2.csv',encoding = 'latin1')\n"
   ]
  },
  {
   "cell_type": "code",
   "execution_count": 17,
   "metadata": {
    "collapsed": true
   },
   "outputs": [],
   "source": [
    "df1.drop(['Unnamed: 0', 'Unnamed: 3', 'Unnamed: 4'], axis=1, inplace=True)\n",
    "df2.drop('Unnamed: 0', axis=1, inplace=True)\n",
    "df2.rename(columns = {'gated_TorF':'label'}, inplace = True)"
   ]
  },
  {
   "cell_type": "code",
   "execution_count": 18,
   "metadata": {
    "collapsed": true
   },
   "outputs": [],
   "source": [
    "df1['label'] = df1['gated?'].apply(lambda x:truefalse_to_binary(x))\n",
    "df1.drop('gated?', axis=1, inplace=True)"
   ]
  },
  {
   "cell_type": "code",
   "execution_count": 19,
   "metadata": {
    "collapsed": false
   },
   "outputs": [
    {
     "data": {
      "text/plain": [
       "(3946, 2)"
      ]
     },
     "execution_count": 19,
     "metadata": {},
     "output_type": "execute_result"
    }
   ],
   "source": [
    "# Merge dataframes\n",
    "frames = [df1, df2, df3]\n",
    "df = pd.concat(frames)\n",
    "df.shape"
   ]
  },
  {
   "cell_type": "code",
   "execution_count": 20,
   "metadata": {
    "collapsed": false
   },
   "outputs": [
    {
     "data": {
      "text/plain": [
       "(1969, 2)"
      ]
     },
     "execution_count": 20,
     "metadata": {},
     "output_type": "execute_result"
    }
   ],
   "source": [
    "df.query('label == 1').shape"
   ]
  },
  {
   "cell_type": "code",
   "execution_count": 21,
   "metadata": {
    "collapsed": true
   },
   "outputs": [],
   "source": [
    "df['text'] = df['description_parsed'].copy()"
   ]
  },
  {
   "cell_type": "code",
   "execution_count": 22,
   "metadata": {
    "collapsed": false
   },
   "outputs": [],
   "source": [
    "#dfb = df.loc[df['label'] == 1].copy()\n",
    "\n",
    "#dfc = dfb[dfb.description_parsed.str.contains('concierge')]\n",
    "#print(dfc.head())\n",
    "#dfc.to_csv('concierge.csv')"
   ]
  },
  {
   "cell_type": "code",
   "execution_count": 23,
   "metadata": {
    "collapsed": false
   },
   "outputs": [],
   "source": [
    "from nltk.corpus import stopwords\n",
    "def removeStopWords(input):\n",
    "    exclude = set(string.punctuation)\n",
    "    output = ' '.join([word for word in input.split() if word not in stopwords.words(\"english\")])\n",
    "    output = ''.join(ch for ch in output if ch not in exclude)\n",
    "        \n",
    "    return pd.Series(dict(output=output))\n",
    "\n",
    "df['ml_text'] = df['text'].apply(lambda x: removeStopWords(x))\n",
    "# print(df.ml_text.head())\n",
    "# Need to add to stopwords- remove company names, towns, names of developments, dimensions. Also ascii (do this at the start)"
   ]
  },
  {
   "cell_type": "code",
   "execution_count": 24,
   "metadata": {
    "collapsed": false
   },
   "outputs": [],
   "source": [
    "# remove non-ascii\n",
    "#df['ml_text'].apply(lambda x : x.encode('ascii',errors='ignore').decode(\"latin1\"))\n",
    "## No success. Tried below:\n",
    "\n",
    "def remove_non_ascii (text):\n",
    "    return ''.join(i for i in text if ord(i)<128)\n",
    "                   \n",
    "def replacenon_ascii_w_space (text):\n",
    "    return ''.join([i if ord(i) < 128 else ' ' for i in text])\n",
    "#df['test'] = df['ml_text'].apply(lambda x : x.split(\" \"))\n",
    "#df['test'].apply(filter(lambda x : ' '.join([nonAscii(y) for y in x]))\n",
    "## No success. \n",
    "\n",
    "df['ml_text'] = df['ml_text'].apply(lambda x: remove_non_ascii(x))"
   ]
  },
  {
   "cell_type": "code",
   "execution_count": 25,
   "metadata": {
    "collapsed": false
   },
   "outputs": [
    {
     "data": {
      "text/plain": [
       "' ai hello '"
      ]
     },
     "execution_count": 25,
     "metadata": {},
     "output_type": "execute_result"
    }
   ],
   "source": [
    "sent = 'ä aÄiÜ hello ãâ¢ãâãâ¢'\n",
    "remove_non_ascii(sent)"
   ]
  },
  {
   "cell_type": "markdown",
   "metadata": {},
   "source": [
    "### Working stemming code"
   ]
  },
  {
   "cell_type": "code",
   "execution_count": 26,
   "metadata": {
    "collapsed": true
   },
   "outputs": [],
   "source": [
    "from nltk.stem import PorterStemmer, WordNetLemmatizer\n",
    "\n",
    "porter_stemmer = PorterStemmer()\n",
    "wnl = WordNetLemmatizer()"
   ]
  },
  {
   "cell_type": "code",
   "execution_count": 27,
   "metadata": {
    "collapsed": true
   },
   "outputs": [],
   "source": [
    "df['token_text'] = df['ml_text'].apply(lambda x : x.split(\" \"))\n",
    "df['stem_text'] = df['token_text'].apply(lambda x : [porter_stemmer.stem(y) for y in x])\n",
    "df['stem_text'] = df['stem_text'].apply(lambda x : ' '.join(x))\n",
    "# df['stem_text'].head()"
   ]
  },
  {
   "cell_type": "markdown",
   "metadata": {},
   "source": [
    "### Start ML\n",
    "1. Need to split the data into X and Y values"
   ]
  },
  {
   "cell_type": "code",
   "execution_count": 28,
   "metadata": {
    "collapsed": true
   },
   "outputs": [],
   "source": [
    "X=df['ml_text'].values.astype('U')\n",
    "y=df['label'].values"
   ]
  },
  {
   "cell_type": "code",
   "execution_count": 29,
   "metadata": {
    "collapsed": false
   },
   "outputs": [
    {
     "data": {
      "text/plain": [
       "array([1, 1, 1, ..., 0, 0, 0])"
      ]
     },
     "execution_count": 29,
     "metadata": {},
     "output_type": "execute_result"
    }
   ],
   "source": [
    "y"
   ]
  },
  {
   "cell_type": "code",
   "execution_count": 30,
   "metadata": {
    "collapsed": true
   },
   "outputs": [],
   "source": [
    "#split between training set and test set\n",
    "\n",
    "train_X, test_X, train_y, test_y = train_test_split(X,y, test_size=0.2, random_state=0)"
   ]
  },
  {
   "cell_type": "code",
   "execution_count": 31,
   "metadata": {
    "collapsed": false
   },
   "outputs": [
    {
     "data": {
      "text/plain": [
       "array([0, 0, 1, ..., 1, 0, 0])"
      ]
     },
     "execution_count": 31,
     "metadata": {},
     "output_type": "execute_result"
    }
   ],
   "source": [
    "train_y"
   ]
  },
  {
   "cell_type": "code",
   "execution_count": 32,
   "metadata": {
    "collapsed": false
   },
   "outputs": [
    {
     "name": "stdout",
     "output_type": "stream",
     "text": [
      "Pipeline(steps=[('vectorizer', CountVectorizer(analyzer='word', binary=False, decode_error='strict',\n",
      "        dtype=<class 'numpy.int64'>, encoding='utf-8', input='content',\n",
      "        lowercase=True, max_df=1.0, max_features=10000, min_df=1,\n",
      "        ngram_range=(1, 3), preprocessor=None, stop_words=None,\n",
      "      ...ty='l2', random_state=None, solver='liblinear', tol=0.0001,\n",
      "          verbose=0, warm_start=False))])\n"
     ]
    }
   ],
   "source": [
    "print(trigram_clf.fit(train_X, train_y))\n"
   ]
  },
  {
   "cell_type": "code",
   "execution_count": 33,
   "metadata": {
    "collapsed": false
   },
   "outputs": [
    {
     "name": "stdout",
     "output_type": "stream",
     "text": [
      "0.949367088608\n"
     ]
    }
   ],
   "source": [
    "print(trigram_clf.score(test_X, test_y))"
   ]
  },
  {
   "cell_type": "code",
   "execution_count": 34,
   "metadata": {
    "collapsed": true
   },
   "outputs": [],
   "source": [
    "# 5-fold crossvalidation\n",
    "\n",
    "scores = cross_val_score(trigram_clf, X, y, cv=5)"
   ]
  },
  {
   "cell_type": "code",
   "execution_count": 35,
   "metadata": {
    "collapsed": false
   },
   "outputs": [
    {
     "name": "stdout",
     "output_type": "stream",
     "text": [
      "-----------------NLTK trigram pipeline------\n",
      "[ 0.9443038   0.9556962   0.93155894  0.94043093  0.90989848]\n",
      "0.936377667548\n"
     ]
    }
   ],
   "source": [
    "print(\"-----------------NLTK trigram pipeline------\")\n",
    "print (scores)\n",
    "print (np.mean(scores))"
   ]
  },
  {
   "cell_type": "code",
   "execution_count": 36,
   "metadata": {
    "collapsed": false
   },
   "outputs": [
    {
     "name": "stdout",
     "output_type": "stream",
     "text": [
      "9.7923gated development    -3.2732           rear\n",
      "8.3791    development    -2.1505          front\n",
      "8.0927          gated    -2.0995         garden\n",
      "4.2312         secure    -2.0187           upvc\n",
      "3.4547         within    -1.8293         period\n",
      "3.0427secure gated development    -1.7290         window\n",
      "2.9663      community    -1.6872upvc double glazed\n",
      "2.9013gated community    -1.6613       property\n",
      "2.7956  private gated    -1.6544    upvc double\n",
      "2.7351   secure gated    -1.5263  gated parking\n",
      "2.5298      apartment    -1.3032         glazed\n",
      "2.5114   within gated    -1.2713         lounge\n",
      "2.2989private gated development    -1.2592    refurbished\n",
      "2.2984           mews    -1.2437secure gated parking\n",
      "2.2897        ensuite    -1.2406      fireplace\n",
      "2.0892        private    -1.2295       detached\n",
      "2.0595          water    -1.1903           flat\n",
      "2.0192         canada    -1.1304          brand\n",
      "1.9915within gated development    -1.1267      brand new\n",
      "1.9315   canada water    -1.1035  accommodation\n"
     ]
    }
   ],
   "source": [
    "print(show_most_informative_features(trigram_clf))"
   ]
  },
  {
   "cell_type": "code",
   "execution_count": null,
   "metadata": {
    "collapsed": true
   },
   "outputs": [],
   "source": []
  },
  {
   "cell_type": "markdown",
   "metadata": {},
   "source": [
    "### SVM trigrams classifier"
   ]
  },
  {
   "cell_type": "code",
   "execution_count": 37,
   "metadata": {
    "collapsed": false
   },
   "outputs": [
    {
     "name": "stdout",
     "output_type": "stream",
     "text": [
      "Pipeline(steps=[('vectorizer', CountVectorizer(analyzer='word', binary=False, decode_error='strict',\n",
      "        dtype=<class 'numpy.int64'>, encoding='utf-8', input='content',\n",
      "        lowercase=True, max_df=1.0, max_features=10000, min_df=1,\n",
      "        ngram_range=(1, 3), preprocessor=None, stop_words=None,\n",
      "      ...ax_iter=1000,\n",
      "     multi_class='ovr', penalty='l2', random_state=None, tol=0.0001,\n",
      "     verbose=0))])\n",
      "0.96582278481\n"
     ]
    }
   ],
   "source": [
    "print(svm_trigram_clf.fit(train_X, train_y))\n",
    "print(svm_trigram_clf.score(test_X, test_y))"
   ]
  },
  {
   "cell_type": "code",
   "execution_count": 38,
   "metadata": {
    "collapsed": false
   },
   "outputs": [
    {
     "name": "stdout",
     "output_type": "stream",
     "text": [
      "-----------------SVM trigram pipeline------\n",
      "[ 0.94683544  0.9556962   0.97338403  0.97972117  0.92005076]\n",
      "0.955137520688\n"
     ]
    }
   ],
   "source": [
    "# 5-fold crossvalidation\n",
    "\n",
    "scores = cross_val_score(svm_trigram_clf, X, y, cv=5)\n",
    "\n",
    "print(\"-----------------SVM trigram pipeline------\")\n",
    "print (scores)\n",
    "print (np.mean(scores))"
   ]
  },
  {
   "cell_type": "code",
   "execution_count": 39,
   "metadata": {
    "collapsed": false
   },
   "outputs": [
    {
     "name": "stdout",
     "output_type": "stream",
     "text": [
      "0.8409          gated    -0.2699  gated parking\n",
      "0.7237gated development    -0.2126secure gated parking\n",
      "0.2755    development    -0.1752             03\n",
      "0.2645      community    -0.1725well maintained\n",
      "0.2491gated community    -0.1632         period\n",
      "0.2028  private gated    -0.1550development moments\n",
      "0.1732       crescent    -0.1539         duplex\n",
      "0.1435secure gated development    -0.1473         system\n",
      "0.1415bermondsey street    -0.1418  walk wardrobe\n",
      "0.1404   stunning two    -0.1395   floor modern\n",
      "0.1362          water    -0.1374            bed\n",
      "0.13582 bedroom apartment    -0.1355 administration\n",
      "0.1354         office    -0.1287apartment comprises\n",
      "0.1349           ever    -0.1284  parking gated\n",
      "0.1349   ever popular    -0.1261popular development\n",
      "0.1304    minute walk    -0.1210   two bedrooms\n",
      "0.1294        ensuite    -0.1207         fourth\n",
      "0.1289            fee    -0.1206   fourth floor\n",
      "0.1266         secure    -0.1200dorchester town\n",
      "0.1225      mezzanine    -0.1199           plus\n"
     ]
    }
   ],
   "source": [
    "print(show_most_informative_features(svm_trigram_clf))"
   ]
  },
  {
   "cell_type": "code",
   "execution_count": 40,
   "metadata": {
    "collapsed": false
   },
   "outputs": [
    {
     "name": "stderr",
     "output_type": "stream",
     "text": [
      "/home/kim/anaconda3/lib/python3.5/site-packages/sklearn/cross_validation.py:44: DeprecationWarning: This module was deprecated in version 0.18 in favor of the model_selection module into which all the refactored classes and functions are moved. Also note that the interface of the new CV iterators are different from that of this module. This module will be removed in 0.20.\n",
      "  \"This module will be removed in 0.20.\", DeprecationWarning)\n",
      "/home/kim/anaconda3/lib/python3.5/site-packages/sklearn/learning_curve.py:23: DeprecationWarning: This module was deprecated in version 0.18 in favor of the model_selection module into which all the functions are moved. This module will be removed in 0.20\n",
      "  DeprecationWarning)\n"
     ]
    }
   ],
   "source": [
    "from sklearn.learning_curve import learning_curve\n",
    "def plot_learning_curve(estimator, title, X, y, ylim=None, cv=None,\n",
    "                        train_sizes=np.linspace(.1, 1.0, 5)):\n",
    "    \"\"\"\n",
    "    Generate a simple plot of the test and traning learning curve.\n",
    "\n",
    "    Parameters\n",
    "    ----------\n",
    "    estimator : object type that implements the \"fit\" and \"predict\" methods\n",
    "        An object of that type which is cloned for each validation.\n",
    "\n",
    "    title : string\n",
    "        Title for the chart.\n",
    "\n",
    "    X : array-like, shape (n_samples, n_features)\n",
    "        Training vector, where n_samples is the number of samples and\n",
    "        n_features is the number of features.\n",
    "\n",
    "    y : array-like, shape (n_samples) or (n_samples, n_features), optional\n",
    "        Target relative to X for classification or regression;\n",
    "        None for unsupervised learning.\n",
    "\n",
    "    ylim : tuple, shape (ymin, ymax), optional\n",
    "        Defines minimum and maximum yvalues plotted.\n",
    "\n",
    "    cv : integer, cross-validation generator, optional\n",
    "        If an integer is passed, it is the number of folds (defaults to 3).\n",
    "        Specific cross-validation objects can be passed, see\n",
    "        sklearn.cross_validation module for the list of possible objects\n",
    "    \"\"\"\n",
    "    \n",
    "    plt.figure()\n",
    "    train_sizes, train_scores, test_scores = learning_curve(\n",
    "        estimator, X_new, y, cv=5, n_jobs=1, train_sizes=train_sizes)\n",
    "    train_scores_mean = np.mean(train_scores, axis=1)\n",
    "    train_scores_std = np.std(train_scores, axis=1)\n",
    "    test_scores_mean = np.mean(test_scores, axis=1)\n",
    "    test_scores_std = np.std(test_scores, axis=1)\n",
    "\n",
    "    plt.fill_between(train_sizes, train_scores_mean - train_scores_std,\n",
    "                     train_scores_mean + train_scores_std, alpha=0.1,\n",
    "                     color=\"r\")\n",
    "    plt.fill_between(train_sizes, test_scores_mean - test_scores_std,\n",
    "                     test_scores_mean + test_scores_std, alpha=0.1, color=\"g\")\n",
    "    plt.plot(train_sizes, train_scores_mean, 'o-', color=\"r\",\n",
    "             label=\"Training score\")\n",
    "    plt.plot(train_sizes, test_scores_mean, 'o-', color=\"g\",\n",
    "             label=\"Cross-validation score\")\n",
    "\n",
    "    plt.xlabel(\"Training examples\")\n",
    "    plt.ylabel(\"Score\")\n",
    "    plt.legend(loc=\"best\")\n",
    "    plt.grid(\"on\") \n",
    "    if ylim:\n",
    "        plt.ylim(ylim)\n",
    "    plt.title(title)"
   ]
  },
  {
   "cell_type": "code",
   "execution_count": 41,
   "metadata": {
    "collapsed": false
   },
   "outputs": [
    {
     "name": "stdout",
     "output_type": "stream",
     "text": [
      "(790, 8301)\n",
      "(3946,)\n",
      "(3946,)\n"
     ]
    },
    {
     "name": "stderr",
     "output_type": "stream",
     "text": [
      "/home/kim/anaconda3/lib/python3.5/site-packages/sklearn/grid_search.py:43: DeprecationWarning: This module was deprecated in version 0.18 in favor of the model_selection module into which all the refactored classes and functions are moved. This module will be removed in 0.20.\n",
      "  DeprecationWarning)\n"
     ]
    }
   ],
   "source": [
    "import matplotlib.pyplot as plt\n",
    "from sklearn import svm, grid_search\n",
    "\n",
    "count_vect = TfidfVectorizer()\n",
    "X_new = count_vect.fit_transform(test_X)\n",
    "\n",
    "print(X_new.shape)\n",
    "print(y.shape)\n",
    "print(X.shape)\n",
    "\n",
    "#plot_learning_curve(LinearSVC(C=10.0), \"LinearSVC(C=10.0)\",\n",
    "#                    X_new, y, ylim=(0.8, 1.01),\n",
    "#                    train_sizes=np.linspace(.05, 0.2, 5))"
   ]
  },
  {
   "cell_type": "markdown",
   "metadata": {},
   "source": [
    "### Naive Bayes trigrams"
   ]
  },
  {
   "cell_type": "code",
   "execution_count": 42,
   "metadata": {
    "collapsed": false
   },
   "outputs": [
    {
     "name": "stdout",
     "output_type": "stream",
     "text": [
      "Pipeline(steps=[('vectorizer', CountVectorizer(analyzer='word', binary=False, decode_error='strict',\n",
      "        dtype=<class 'numpy.int64'>, encoding='utf-8', input='content',\n",
      "        lowercase=True, max_df=1.0, max_features=10000, min_df=1,\n",
      "        ngram_range=(1, 3), preprocessor=None, stop_words=None,\n",
      "      ...      vocabulary=None)), ('classifier', MultinomialNB(alpha=1.0, class_prior=None, fit_prior=True))])\n",
      "0.825316455696\n"
     ]
    }
   ],
   "source": [
    "print(NB_trigram_clf.fit(train_X, train_y))\n",
    "print(NB_trigram_clf.score(test_X, test_y))"
   ]
  },
  {
   "cell_type": "code",
   "execution_count": 43,
   "metadata": {
    "collapsed": false
   },
   "outputs": [
    {
     "name": "stdout",
     "output_type": "stream",
     "text": [
      "-----------------NB trigram pipeline------\n",
      "[ 0.91898734  0.92025316  0.73003802  0.78833967  0.73096447]\n",
      "0.817716533323\n"
     ]
    }
   ],
   "source": [
    "# 5-fold crossvalidation\n",
    "\n",
    "scores = cross_val_score(NB_trigram_clf, X, y, cv=5)\n",
    "\n",
    "print(\"-----------------NB trigram pipeline------\")\n",
    "print (scores)\n",
    "print (np.mean(scores))"
   ]
  },
  {
   "cell_type": "code",
   "execution_count": 44,
   "metadata": {
    "collapsed": false
   },
   "outputs": [
    {
     "name": "stdout",
     "output_type": "stream",
     "text": [
      "-4.7643        bedroom    -12.6307          x 9 7\n",
      "-4.7802         double    -12.6307           x 82\n",
      "-5.0368       property    -12.6307          x 8 8\n",
      "-5.1104    development    -12.6307           x 79\n",
      "-5.1357          gated    -12.6307         x 7 11\n",
      "-5.1748            two    -12.6307         x 345m\n",
      "-5.1929      apartment    -12.6307          x 33m\n",
      "-5.2757           room    -12.6307         x 330m\n",
      "-5.2814        kitchen    -12.6307         x 292m\n",
      "-5.2905          floor    -12.6307         x 229m\n",
      "-5.2957              x    -12.6307         x 208m\n",
      "-5.3624gated development    -12.6307         x 165m\n",
      "-5.4340       bathroom    -12.6307          x 114\n",
      "-5.4498         within    -12.6307          x 108\n",
      "-5.5315        parking    -12.6307         x 10 1\n",
      "-5.7690         modern    -12.6307worktops stainless steel\n",
      "-5.7901         fitted    -12.6307worktops stainless\n",
      "-5.8117          large    -12.6307  worktops over\n",
      "-5.8283           area    -12.6307worktop surfaces\n",
      "-5.8485         secure    -12.6307   worksurfaces\n"
     ]
    }
   ],
   "source": [
    "print(show_most_informative_features(NB_trigram_clf))\n",
    "# Suggests better parsing of html entities is needed"
   ]
  },
  {
   "cell_type": "markdown",
   "metadata": {},
   "source": [
    "### Random Forests"
   ]
  },
  {
   "cell_type": "markdown",
   "metadata": {
    "collapsed": false
   },
   "source": [
    "print(random_clf.fit(train_X, train_y))\n",
    "print(random_clf.score(test_X, test_y))"
   ]
  },
  {
   "cell_type": "markdown",
   "metadata": {
    "collapsed": false
   },
   "source": [
    "\n",
    "5-fold crossvalidation\n",
    "\n",
    "scores = cross_val_score(random_clf, X, y, cv=5)\n",
    "\n",
    "print(\"-----------------Random Forest trigram pipeline------\")\n",
    "print (scores)\n",
    "print (np.mean(scores))"
   ]
  },
  {
   "cell_type": "markdown",
   "metadata": {
    "collapsed": false
   },
   "source": [
    "print(show_most_informative_features(random_clf))"
   ]
  },
  {
   "cell_type": "markdown",
   "metadata": {
    "collapsed": false
   },
   "source": [
    "random_clf.fit(train_X, train_y)\n",
    "\n",
    "importances = random_clf.feature_importances_\n",
    "std = np.std([tree.feature_importances_ for tree in forest.estimators_],\n",
    "             axis=0)\n",
    "indices = np.argsort(importances)[::-1]\n",
    "\n",
    "Print the feature ranking\n",
    "print(\"Feature ranking:\")\n",
    "\n",
    "for f in range(X.shape[1]):\n",
    "    print(\"%d. feature %d (%f)\" % (f + 1, indices[f], importances[indices[f]]))\n",
    "\n",
    "    \n",
    "    #### NEED TO DEFINE ANOTHER FUNCTION USING THE PIPELINES AT THE TOP"
   ]
  },
  {
   "cell_type": "markdown",
   "metadata": {},
   "source": [
    "### Neural Networks"
   ]
  },
  {
   "cell_type": "code",
   "execution_count": 45,
   "metadata": {
    "collapsed": false
   },
   "outputs": [
    {
     "name": "stdout",
     "output_type": "stream",
     "text": [
      "Iteration 1, loss = 0.44519715\n",
      "Validation score: 0.873418\n",
      "Iteration 2, loss = 0.25637352\n",
      "Validation score: 0.943038\n",
      "Iteration 3, loss = 0.15455778\n",
      "Validation score: 0.955696\n",
      "Iteration 4, loss = 0.09211393\n",
      "Validation score: 0.949367\n",
      "Iteration 5, loss = 0.05729067\n",
      "Validation score: 0.955696\n",
      "Iteration 6, loss = 0.03600243\n",
      "Validation score: 0.955696\n",
      "Validation score did not improve more than tol=0.000100 for two consecutive epochs. Stopping.\n",
      "Pipeline(steps=[('vectorizer', CountVectorizer(analyzer='word', binary=False, decode_error='strict',\n",
      "        dtype=<class 'numpy.int64'>, encoding='utf-8', input='content',\n",
      "        lowercase=True, max_df=1.0, max_features=10000, min_df=1,\n",
      "        ngram_range=(1, 3), preprocessor=None, stop_words=None,\n",
      "      ...e=True, solver='adam', tol=0.0001, validation_fraction=0.05,\n",
      "       verbose=100, warm_start=False))])\n",
      "0.915189873418\n"
     ]
    }
   ],
   "source": [
    "print(NN_trigram_clf.fit(train_X, train_y))\n",
    "print(NN_trigram_clf.score(test_X, test_y))"
   ]
  },
  {
   "cell_type": "code",
   "execution_count": 46,
   "metadata": {
    "collapsed": false
   },
   "outputs": [
    {
     "name": "stdout",
     "output_type": "stream",
     "text": [
      "Iteration 1, loss = 0.47802876\n",
      "Validation score: 0.854430\n",
      "Iteration 2, loss = 0.28121011\n",
      "Validation score: 0.905063\n",
      "Iteration 3, loss = 0.16778361\n",
      "Validation score: 0.930380\n",
      "Iteration 4, loss = 0.09926175\n",
      "Validation score: 0.924051\n",
      "Iteration 5, loss = 0.05988236\n",
      "Validation score: 0.911392\n",
      "Iteration 6, loss = 0.03576441\n",
      "Validation score: 0.917722\n",
      "Validation score did not improve more than tol=0.000100 for two consecutive epochs. Stopping.\n",
      "Iteration 1, loss = 0.45935879\n",
      "Validation score: 0.873418\n",
      "Iteration 2, loss = 0.24659339\n",
      "Validation score: 0.892405\n",
      "Iteration 3, loss = 0.14854941\n",
      "Validation score: 0.905063\n",
      "Iteration 4, loss = 0.09008568\n",
      "Validation score: 0.917722\n",
      "Iteration 5, loss = 0.05327069\n",
      "Validation score: 0.917722\n",
      "Iteration 6, loss = 0.03387247\n",
      "Validation score: 0.917722\n",
      "Iteration 7, loss = 0.02244751\n",
      "Validation score: 0.911392\n",
      "Validation score did not improve more than tol=0.000100 for two consecutive epochs. Stopping.\n",
      "Iteration 1, loss = 0.44629076\n",
      "Validation score: 0.873418\n",
      "Iteration 2, loss = 0.26801031\n",
      "Validation score: 0.917722\n",
      "Iteration 3, loss = 0.17177050\n",
      "Validation score: 0.936709\n",
      "Iteration 4, loss = 0.10952317\n",
      "Validation score: 0.936709\n",
      "Iteration 5, loss = 0.06637221\n",
      "Validation score: 0.943038\n",
      "Iteration 6, loss = 0.04236538\n",
      "Validation score: 0.943038\n",
      "Iteration 7, loss = 0.02780043\n",
      "Validation score: 0.943038\n",
      "Iteration 8, loss = 0.01935753\n",
      "Validation score: 0.943038\n",
      "Validation score did not improve more than tol=0.000100 for two consecutive epochs. Stopping.\n",
      "Iteration 1, loss = 0.45638070\n",
      "Validation score: 0.879747\n",
      "Iteration 2, loss = 0.26530725\n",
      "Validation score: 0.930380\n",
      "Iteration 3, loss = 0.16020240\n",
      "Validation score: 0.943038\n",
      "Iteration 4, loss = 0.09923957\n",
      "Validation score: 0.949367\n",
      "Iteration 5, loss = 0.06027755\n",
      "Validation score: 0.949367\n",
      "Iteration 6, loss = 0.03715802\n",
      "Validation score: 0.962025\n",
      "Iteration 7, loss = 0.02512399\n",
      "Validation score: 0.962025\n",
      "Iteration 8, loss = 0.01750577\n",
      "Validation score: 0.962025\n",
      "Iteration 9, loss = 0.01324842\n",
      "Validation score: 0.962025\n",
      "Validation score did not improve more than tol=0.000100 for two consecutive epochs. Stopping.\n",
      "Iteration 1, loss = 0.43706621\n",
      "Validation score: 0.841772\n",
      "Iteration 2, loss = 0.25075525\n",
      "Validation score: 0.886076\n",
      "Iteration 3, loss = 0.15999928\n",
      "Validation score: 0.898734\n",
      "Iteration 4, loss = 0.10352739\n",
      "Validation score: 0.892405\n",
      "Iteration 5, loss = 0.06404820\n",
      "Validation score: 0.905063\n",
      "Iteration 6, loss = 0.04030644\n",
      "Validation score: 0.917722\n",
      "Iteration 7, loss = 0.02490442\n",
      "Validation score: 0.905063\n",
      "Iteration 8, loss = 0.01731406\n",
      "Validation score: 0.917722\n",
      "Iteration 9, loss = 0.01259772\n",
      "Validation score: 0.911392\n",
      "Validation score did not improve more than tol=0.000100 for two consecutive epochs. Stopping.\n",
      "-----------------SGD trigram pipeline------\n",
      "[ 0.92278481  0.93544304  0.92268695  0.93662864  0.89340102]\n",
      "0.922188890537\n"
     ]
    }
   ],
   "source": [
    "# 5-fold crossvalidation\n",
    "\n",
    "scores = cross_val_score(NN_trigram_clf, X, y, cv=5)\n",
    "\n",
    "print(\"-----------------SGD trigram pipeline------\")\n",
    "print (scores)\n",
    "print (np.mean(scores))"
   ]
  },
  {
   "cell_type": "markdown",
   "metadata": {},
   "source": [
    "### Stochastic Gradient Descent"
   ]
  },
  {
   "cell_type": "code",
   "execution_count": 47,
   "metadata": {
    "collapsed": false
   },
   "outputs": [
    {
     "name": "stdout",
     "output_type": "stream",
     "text": [
      "Pipeline(steps=[('vectorizer', CountVectorizer(analyzer='word', binary=False, decode_error='strict',\n",
      "        dtype=<class 'numpy.int64'>, encoding='utf-8', input='content',\n",
      "        lowercase=True, max_df=1.0, max_features=10000, min_df=1,\n",
      "        ngram_range=(1, 3), preprocessor=None, stop_words=None,\n",
      "      ...   penalty='l2', power_t=0.5, random_state=None, shuffle=True,\n",
      "       verbose=0, warm_start=False))])\n",
      "0.939240506329\n"
     ]
    }
   ],
   "source": [
    "print(SGD_trigram_clf.fit(train_X, train_y))\n",
    "print(SGD_trigram_clf.score(test_X, test_y))"
   ]
  },
  {
   "cell_type": "code",
   "execution_count": 48,
   "metadata": {
    "collapsed": false
   },
   "outputs": [
    {
     "name": "stdout",
     "output_type": "stream",
     "text": [
      "-----------------SGD trigram pipeline------\n",
      "[ 0.90506329  0.9556962   0.94930292  0.96070976  0.92385787]\n",
      "0.938926007192\n"
     ]
    }
   ],
   "source": [
    "# 5-fold crossvalidation\n",
    "\n",
    "scores = cross_val_score(SGD_trigram_clf, X, y, cv=5)\n",
    "\n",
    "print(\"-----------------SGD trigram pipeline------\")\n",
    "print (scores)\n",
    "print (np.mean(scores))"
   ]
  },
  {
   "cell_type": "code",
   "execution_count": 49,
   "metadata": {
    "collapsed": false
   },
   "outputs": [
    {
     "name": "stdout",
     "output_type": "stream",
     "text": [
      "99.5292          gated    -32.1831           upvc\n",
      "87.0135gated development    -26.8192       enclosed\n",
      "41.1228    development    -25.0313      apartment\n",
      "36.9510      community    -23.2433          power\n",
      "32.7791gated community    -20.2634           rail\n",
      "32.1831   downlighters    -20.2634  gated parking\n",
      "26.2233            led    -19.0715   conservatory\n",
      "26.2233      extractor    -19.0715           flat\n",
      "25.6273     attractive    -18.4755      fireplace\n",
      "25.6273       communal    -17.8795          comes\n",
      "24.4353            via    -17.8795         modern\n",
      "24.4353           mews    -17.8795             15\n",
      "23.2433  floor landing    -17.2835           wood\n",
      "22.6474        bespoke    -17.2835          patio\n",
      "20.8594        beneath    -16.6875        schools\n",
      "19.6674        ensuite    -16.6875           home\n",
      "19.0715led downlighters    -16.6875           east\n",
      "19.0715      allocated    -16.6875           rear\n",
      "18.4755       electric    -16.0915         single\n",
      "18.4755            max    -16.0915radiator double\n"
     ]
    }
   ],
   "source": [
    "print(show_most_informative_features(SGD_trigram_clf))"
   ]
  },
  {
   "cell_type": "markdown",
   "metadata": {},
   "source": [
    "## Classification report"
   ]
  },
  {
   "cell_type": "code",
   "execution_count": 50,
   "metadata": {
    "collapsed": false
   },
   "outputs": [
    {
     "name": "stdout",
     "output_type": "stream",
     "text": [
      "             precision    recall  f1-score   support\n",
      "\n",
      "          0       0.95      0.91      0.93       395\n",
      "          1       0.91      0.95      0.93       395\n",
      "\n",
      "avg / total       0.93      0.93      0.93       790\n",
      "\n"
     ]
    }
   ],
   "source": [
    "# SK Learn classification report\n",
    "from sklearn import svm, grid_search\n",
    "\n",
    "count_vect = TfidfVectorizer()\n",
    "X_transformed = count_vect.fit_transform(train_X)\n",
    "\n",
    "count_vect.vocabulary_.get(u'gated')\n",
    "\n",
    "clf = LogisticRegression().fit(X_transformed, train_y)\n",
    "X_new_counts = count_vect.transform(test_X)\n",
    "\n",
    "y_pred = clf.predict(X_new_counts)\n",
    "print(classification_report(test_y, y_pred))\n"
   ]
  },
  {
   "cell_type": "code",
   "execution_count": 51,
   "metadata": {
    "collapsed": false
   },
   "outputs": [
    {
     "data": {
      "text/plain": [
       "<3156x16160 sparse matrix of type '<class 'numpy.float64'>'\n",
       "\twith 386076 stored elements in Compressed Sparse Row format>"
      ]
     },
     "execution_count": 51,
     "metadata": {},
     "output_type": "execute_result"
    }
   ],
   "source": [
    "X_transformed"
   ]
  },
  {
   "cell_type": "code",
   "execution_count": 52,
   "metadata": {
    "collapsed": false
   },
   "outputs": [
    {
     "data": {
      "text/plain": [
       "array([[ 0.,  0.,  0., ...,  0.,  0.,  0.],\n",
       "       [ 0.,  0.,  0., ...,  0.,  0.,  0.],\n",
       "       [ 0.,  0.,  0., ...,  0.,  0.,  0.],\n",
       "       ..., \n",
       "       [ 0.,  0.,  0., ...,  0.,  0.,  0.],\n",
       "       [ 0.,  0.,  0., ...,  0.,  0.,  0.],\n",
       "       [ 0.,  0.,  0., ...,  0.,  0.,  0.]])"
      ]
     },
     "execution_count": 52,
     "metadata": {},
     "output_type": "execute_result"
    }
   ],
   "source": [
    "X_transformed.A\n"
   ]
  },
  {
   "cell_type": "code",
   "execution_count": 53,
   "metadata": {
    "collapsed": false
   },
   "outputs": [
    {
     "data": {
      "text/html": [
       "<div>\n",
       "<style>\n",
       "    .dataframe thead tr:only-child th {\n",
       "        text-align: right;\n",
       "    }\n",
       "\n",
       "    .dataframe thead th {\n",
       "        text-align: left;\n",
       "    }\n",
       "\n",
       "    .dataframe tbody tr th {\n",
       "        vertical-align: top;\n",
       "    }\n",
       "</style>\n",
       "<table border=\"1\" class=\"dataframe\">\n",
       "  <thead>\n",
       "    <tr style=\"text-align: right;\">\n",
       "      <th></th>\n",
       "      <th>0</th>\n",
       "    </tr>\n",
       "  </thead>\n",
       "  <tbody>\n",
       "    <tr>\n",
       "      <th>0</th>\n",
       "      <td>ground floor entrance hall upvc double glazed ...</td>\n",
       "    </tr>\n",
       "    <tr>\n",
       "      <th>0</th>\n",
       "      <td>recent years superb semidetached family home u...</td>\n",
       "    </tr>\n",
       "    <tr>\n",
       "      <th>0</th>\n",
       "      <td>property reference 15942 beautifully situated ...</td>\n",
       "    </tr>\n",
       "    <tr>\n",
       "      <th>1</th>\n",
       "      <td>key features available 3rd augustfurnishedgate...</td>\n",
       "    </tr>\n",
       "    <tr>\n",
       "      <th>0</th>\n",
       "      <td>entrance hall entrance property upvc double gl...</td>\n",
       "    </tr>\n",
       "    <tr>\n",
       "      <th>0</th>\n",
       "      <td>situated one sought gated developments located...</td>\n",
       "    </tr>\n",
       "    <tr>\n",
       "      <th>1</th>\n",
       "      <td>rare opportunity secure top floor apartment so...</td>\n",
       "    </tr>\n",
       "    <tr>\n",
       "      <th>0</th>\n",
       "      <td>beautifully presented two double bedroom flat ...</td>\n",
       "    </tr>\n",
       "    <tr>\n",
       "      <th>0</th>\n",
       "      <td>ground floor hallway upvc double glazed opaque...</td>\n",
       "    </tr>\n",
       "    <tr>\n",
       "      <th>0</th>\n",
       "      <td>summary spacious well presented semidetached p...</td>\n",
       "    </tr>\n",
       "    <tr>\n",
       "      <th>1</th>\n",
       "      <td>key features modernpenthouse style apartmenton...</td>\n",
       "    </tr>\n",
       "    <tr>\n",
       "      <th>0</th>\n",
       "      <td>large one bedroom flat first floor become avai...</td>\n",
       "    </tr>\n",
       "    <tr>\n",
       "      <th>0</th>\n",
       "      <td>situated quiet culdesac overlooking green fron...</td>\n",
       "    </tr>\n",
       "    <tr>\n",
       "      <th>0</th>\n",
       "      <td>well presented spacious 3 storey 3 bedroomed s...</td>\n",
       "    </tr>\n",
       "    <tr>\n",
       "      <th>0</th>\n",
       "      <td>three bedroom semi detached house village loca...</td>\n",
       "    </tr>\n",
       "    <tr>\n",
       "      <th>1</th>\n",
       "      <td>modern spacious onebed apartment lovely gated ...</td>\n",
       "    </tr>\n",
       "    <tr>\n",
       "      <th>1</th>\n",
       "      <td>key features two bedroom 2 bathroom excellent ...</td>\n",
       "    </tr>\n",
       "    <tr>\n",
       "      <th>1</th>\n",
       "      <td>double room rent flat share apartment includin...</td>\n",
       "    </tr>\n",
       "    <tr>\n",
       "      <th>0</th>\n",
       "      <td>dickinson bowden delighted chosen market super...</td>\n",
       "    </tr>\n",
       "    <tr>\n",
       "      <th>0</th>\n",
       "      <td>charming 2 bedroom semidetached grade ii liste...</td>\n",
       "    </tr>\n",
       "    <tr>\n",
       "      <th>0</th>\n",
       "      <td>introduction attractive ground floor apartment...</td>\n",
       "    </tr>\n",
       "    <tr>\n",
       "      <th>0</th>\n",
       "      <td>strikingly attractive four bedroom double fron...</td>\n",
       "    </tr>\n",
       "    <tr>\n",
       "      <th>0</th>\n",
       "      <td>well proportioned 2 double bedrooms large loun...</td>\n",
       "    </tr>\n",
       "    <tr>\n",
       "      <th>0</th>\n",
       "      <td>gateway walworth road se17 split level five be...</td>\n",
       "    </tr>\n",
       "    <tr>\n",
       "      <th>0</th>\n",
       "      <td>delightful 3 double bedroom family home outsta...</td>\n",
       "    </tr>\n",
       "    <tr>\n",
       "      <th>1</th>\n",
       "      <td>wonderful one bedroom apartment situated fourt...</td>\n",
       "    </tr>\n",
       "    <tr>\n",
       "      <th>1</th>\n",
       "      <td>spacious two double bedroom apartment establis...</td>\n",
       "    </tr>\n",
       "    <tr>\n",
       "      <th>0</th>\n",
       "      <td>hunters crookes delighted market individual th...</td>\n",
       "    </tr>\n",
       "    <tr>\n",
       "      <th>1</th>\n",
       "      <td>key features available 19th junetwo bedroomsga...</td>\n",
       "    </tr>\n",
       "    <tr>\n",
       "      <th>1</th>\n",
       "      <td>apartment 9 fulmar house modern well presented...</td>\n",
       "    </tr>\n",
       "    <tr>\n",
       "      <th>...</th>\n",
       "      <td>...</td>\n",
       "    </tr>\n",
       "    <tr>\n",
       "      <th>1</th>\n",
       "      <td>located moments away delightful dulwich park s...</td>\n",
       "    </tr>\n",
       "    <tr>\n",
       "      <th>1</th>\n",
       "      <td>key features 1 bedroom apartmentground floorga...</td>\n",
       "    </tr>\n",
       "    <tr>\n",
       "      <th>0</th>\n",
       "      <td>beautifully presented two bedroom extended end...</td>\n",
       "    </tr>\n",
       "    <tr>\n",
       "      <th>0</th>\n",
       "      <td>haybrook pleased offer sale three storey three...</td>\n",
       "    </tr>\n",
       "    <tr>\n",
       "      <th>1</th>\n",
       "      <td>located popular residential area within quiet ...</td>\n",
       "    </tr>\n",
       "    <tr>\n",
       "      <th>1</th>\n",
       "      <td>key features two double bedroom flat  thrid fl...</td>\n",
       "    </tr>\n",
       "    <tr>\n",
       "      <th>0</th>\n",
       "      <td>extended three bedroom semi detached family ho...</td>\n",
       "    </tr>\n",
       "    <tr>\n",
       "      <th>1</th>\n",
       "      <td>large three double bedroom apartment situated ...</td>\n",
       "    </tr>\n",
       "    <tr>\n",
       "      <th>0</th>\n",
       "      <td>gjm property proud present large three bedroom...</td>\n",
       "    </tr>\n",
       "    <tr>\n",
       "      <th>0</th>\n",
       "      <td>stunning two bedroom purpose built apartment s...</td>\n",
       "    </tr>\n",
       "    <tr>\n",
       "      <th>0</th>\n",
       "      <td>newly decorated throughout spacious 3 bedroom...</td>\n",
       "    </tr>\n",
       "    <tr>\n",
       "      <th>1</th>\n",
       "      <td>large contemporary two bedroom two bathroom ma...</td>\n",
       "    </tr>\n",
       "    <tr>\n",
       "      <th>1</th>\n",
       "      <td>double room rent flatshare tower bridge bills ...</td>\n",
       "    </tr>\n",
       "    <tr>\n",
       "      <th>0</th>\n",
       "      <td>summary taking detailed inspection well decora...</td>\n",
       "    </tr>\n",
       "    <tr>\n",
       "      <th>1</th>\n",
       "      <td>key features available nowfurnished1 double be...</td>\n",
       "    </tr>\n",
       "    <tr>\n",
       "      <th>1</th>\n",
       "      <td>key features three storey end terrace modern m...</td>\n",
       "    </tr>\n",
       "    <tr>\n",
       "      <th>0</th>\n",
       "      <td>two bedroom first floor apartment located clos...</td>\n",
       "    </tr>\n",
       "    <tr>\n",
       "      <th>0</th>\n",
       "      <td>available  woodhead estates delighted present ...</td>\n",
       "    </tr>\n",
       "    <tr>\n",
       "      <th>0</th>\n",
       "      <td>rare opportunity arisen acquire three bedroom ...</td>\n",
       "    </tr>\n",
       "    <tr>\n",
       "      <th>0</th>\n",
       "      <td>london bridge  fantastic opportunity rent newl...</td>\n",
       "    </tr>\n",
       "    <tr>\n",
       "      <th>1</th>\n",
       "      <td>property reference number 5713189 enquire prop...</td>\n",
       "    </tr>\n",
       "    <tr>\n",
       "      <th>0</th>\n",
       "      <td>property reference 119655 second floor apartme...</td>\n",
       "    </tr>\n",
       "    <tr>\n",
       "      <th>1</th>\n",
       "      <td>key features available occupy nowpart furnishe...</td>\n",
       "    </tr>\n",
       "    <tr>\n",
       "      <th>0</th>\n",
       "      <td>three bedroom period terrace situated within s...</td>\n",
       "    </tr>\n",
       "    <tr>\n",
       "      <th>0</th>\n",
       "      <td>fully furnished 2 bed semi comprising entrance...</td>\n",
       "    </tr>\n",
       "    <tr>\n",
       "      <th>0</th>\n",
       "      <td>fantastic large three double bedroom victorian...</td>\n",
       "    </tr>\n",
       "    <tr>\n",
       "      <th>0</th>\n",
       "      <td>introduction ideally suited first time buyer p...</td>\n",
       "    </tr>\n",
       "    <tr>\n",
       "      <th>0</th>\n",
       "      <td>tucked away quiet culdesac well presented thre...</td>\n",
       "    </tr>\n",
       "    <tr>\n",
       "      <th>0</th>\n",
       "      <td>property shop pleased offer rent two bedroom m...</td>\n",
       "    </tr>\n",
       "    <tr>\n",
       "      <th>0</th>\n",
       "      <td>situated much sought suburb beauchief superb t...</td>\n",
       "    </tr>\n",
       "  </tbody>\n",
       "</table>\n",
       "<p>790 rows × 1 columns</p>\n",
       "</div>"
      ],
      "text/plain": [
       "                                                    0\n",
       "0   ground floor entrance hall upvc double glazed ...\n",
       "0   recent years superb semidetached family home u...\n",
       "0   property reference 15942 beautifully situated ...\n",
       "1   key features available 3rd augustfurnishedgate...\n",
       "0   entrance hall entrance property upvc double gl...\n",
       "0   situated one sought gated developments located...\n",
       "1   rare opportunity secure top floor apartment so...\n",
       "0   beautifully presented two double bedroom flat ...\n",
       "0   ground floor hallway upvc double glazed opaque...\n",
       "0   summary spacious well presented semidetached p...\n",
       "1   key features modernpenthouse style apartmenton...\n",
       "0   large one bedroom flat first floor become avai...\n",
       "0   situated quiet culdesac overlooking green fron...\n",
       "0   well presented spacious 3 storey 3 bedroomed s...\n",
       "0   three bedroom semi detached house village loca...\n",
       "1   modern spacious onebed apartment lovely gated ...\n",
       "1   key features two bedroom 2 bathroom excellent ...\n",
       "1   double room rent flat share apartment includin...\n",
       "0   dickinson bowden delighted chosen market super...\n",
       "0   charming 2 bedroom semidetached grade ii liste...\n",
       "0   introduction attractive ground floor apartment...\n",
       "0   strikingly attractive four bedroom double fron...\n",
       "0   well proportioned 2 double bedrooms large loun...\n",
       "0   gateway walworth road se17 split level five be...\n",
       "0   delightful 3 double bedroom family home outsta...\n",
       "1   wonderful one bedroom apartment situated fourt...\n",
       "1   spacious two double bedroom apartment establis...\n",
       "0   hunters crookes delighted market individual th...\n",
       "1   key features available 19th junetwo bedroomsga...\n",
       "1   apartment 9 fulmar house modern well presented...\n",
       "..                                                ...\n",
       "1   located moments away delightful dulwich park s...\n",
       "1   key features 1 bedroom apartmentground floorga...\n",
       "0   beautifully presented two bedroom extended end...\n",
       "0   haybrook pleased offer sale three storey three...\n",
       "1   located popular residential area within quiet ...\n",
       "1   key features two double bedroom flat  thrid fl...\n",
       "0   extended three bedroom semi detached family ho...\n",
       "1   large three double bedroom apartment situated ...\n",
       "0   gjm property proud present large three bedroom...\n",
       "0   stunning two bedroom purpose built apartment s...\n",
       "0    newly decorated throughout spacious 3 bedroom...\n",
       "1   large contemporary two bedroom two bathroom ma...\n",
       "1   double room rent flatshare tower bridge bills ...\n",
       "0   summary taking detailed inspection well decora...\n",
       "1   key features available nowfurnished1 double be...\n",
       "1   key features three storey end terrace modern m...\n",
       "0   two bedroom first floor apartment located clos...\n",
       "0   available  woodhead estates delighted present ...\n",
       "0   rare opportunity arisen acquire three bedroom ...\n",
       "0   london bridge  fantastic opportunity rent newl...\n",
       "1   property reference number 5713189 enquire prop...\n",
       "0   property reference 119655 second floor apartme...\n",
       "1   key features available occupy nowpart furnishe...\n",
       "0   three bedroom period terrace situated within s...\n",
       "0   fully furnished 2 bed semi comprising entrance...\n",
       "0   fantastic large three double bedroom victorian...\n",
       "0   introduction ideally suited first time buyer p...\n",
       "0   tucked away quiet culdesac well presented thre...\n",
       "0   property shop pleased offer rent two bedroom m...\n",
       "0   situated much sought suburb beauchief superb t...\n",
       "\n",
       "[790 rows x 1 columns]"
      ]
     },
     "execution_count": 53,
     "metadata": {},
     "output_type": "execute_result"
    }
   ],
   "source": [
    "pd.DataFrame(test_X, y_pred)"
   ]
  },
  {
   "cell_type": "code",
   "execution_count": 54,
   "metadata": {
    "collapsed": false
   },
   "outputs": [
    {
     "name": "stderr",
     "output_type": "stream",
     "text": [
      "/home/kim/anaconda3/lib/python3.5/site-packages/ggplot/utils.py:81: FutureWarning: pandas.tslib is deprecated and will be removed in a future version.\n",
      "You can access Timestamp as pandas.Timestamp\n",
      "  pd.tslib.Timestamp,\n",
      "/home/kim/anaconda3/lib/python3.5/site-packages/ggplot/stats/smoothers.py:4: FutureWarning: The pandas.lib module is deprecated and will be removed in a future version. These are private functions and can be accessed from pandas._libs.lib instead\n",
      "  from pandas.lib import Timestamp\n",
      "/home/kim/anaconda3/lib/python3.5/site-packages/statsmodels/compat/pandas.py:56: FutureWarning: The pandas.core.datetools module is deprecated and will be removed in a future version. Please use the pandas.tseries module instead.\n",
      "  from pandas.core import datetools\n"
     ]
    },
    {
     "name": "stdout",
     "output_type": "stream",
     "text": [
      "Area under Curve:  0.988585162634    Brier Score (the lower the better)  0.048383095611\n"
     ]
    }
   ],
   "source": [
    "from sklearn import metrics\n",
    "from sklearn.metrics import roc_curve, auc,brier_score_loss\n",
    "from ggplot import *\n",
    "\n",
    "preds = trigram_clf.predict_proba(test_X)[:,1]\n",
    "fpr, tpr, _ = metrics.roc_curve(test_y, preds)\n",
    "\n",
    "\n",
    "\n",
    "df = pd.DataFrame(dict(fpr=fpr, tpr=tpr))\n",
    "#ggplot(df, aes(x='fpr', y='tpr')) +\\\n",
    "#    geom_line() + \\\n",
    "#    geom_abline(linetype='dashed')\n",
    "    \n",
    "auc = metrics.auc(fpr,tpr)\n",
    "prob_pos = trigram_clf.predict_proba(test_X)[:, 1]\n",
    "br=brier_score_loss(test_y, prob_pos)\n",
    "print(\"Area under Curve: \",auc,\"   Brier Score (the lower the better) \",br)"
   ]
  },
  {
   "cell_type": "code",
   "execution_count": 55,
   "metadata": {
    "collapsed": false
   },
   "outputs": [
    {
     "data": {
      "text/plain": [
       "sys.version_info(major=3, minor=5, micro=2, releaselevel='final', serial=0)"
      ]
     },
     "execution_count": 55,
     "metadata": {},
     "output_type": "execute_result"
    }
   ],
   "source": [
    "import sys\n",
    "sys.version_info"
   ]
  },
  {
   "cell_type": "code",
   "execution_count": 56,
   "metadata": {
    "collapsed": false
   },
   "outputs": [
    {
     "data": {
      "text/plain": [
       "True"
      ]
     },
     "execution_count": 56,
     "metadata": {},
     "output_type": "execute_result"
    }
   ],
   "source": [
    "(sys.version_info[0] >= 3)\n"
   ]
  },
  {
   "cell_type": "code",
   "execution_count": 57,
   "metadata": {
    "collapsed": false
   },
   "outputs": [
    {
     "data": {
      "image/png": "[encoded data removed]",
      "text/plain": [
       "<matplotlib.figure.Figure at 0x7f4c244f96a0>"
      ]
     },
     "metadata": {},
     "output_type": "display_data"
    },
    {
     "data": {
      "text/plain": [
       "<ggplot: (8747815564822)>"
      ]
     },
     "execution_count": 57,
     "metadata": {},
     "output_type": "execute_result"
    }
   ],
   "source": [
    "ggplot(df, aes(x='fpr', y='tpr')) +\\\n",
    "    geom_line() + \\\n",
    "    geom_abline(linetype='dashed')"
   ]
  },
  {
   "cell_type": "markdown",
   "metadata": {},
   "source": [
    "## Plots"
   ]
  },
  {
   "cell_type": "code",
   "execution_count": 58,
   "metadata": {
    "collapsed": true
   },
   "outputs": [],
   "source": [
    "import matplotlib.pyplot as plt\n",
    "from sklearn.calibration import calibration_curve\n",
    "%matplotlib inline"
   ]
  },
  {
   "cell_type": "code",
   "execution_count": 59,
   "metadata": {
    "collapsed": false
   },
   "outputs": [
    {
     "data": {
      "image/png": "[encoded data removed]",
      "text/plain": [
       "<matplotlib.figure.Figure at 0x7f4c67857240>"
      ]
     },
     "metadata": {},
     "output_type": "display_data"
    }
   ],
   "source": [
    "plt.figure(figsize=(10, 10))\n",
    "ax1 = plt.subplot2grid((3, 1), (0, 0), rowspan=2)\n",
    "ax2 = plt.subplot2grid((3, 1), (2, 0))\n",
    "\n",
    "ax1.plot([0, 1], [0, 1], \"k:\", label=\"Perfectly calibrated\")\n",
    "for clf, name in [(svm_trigram_clf, 'trigram SVM ')]:\n",
    "    clf.fit(train_X, train_y)\n",
    "    if hasattr(clf, \"predict_proba\"):\n",
    "        prob_pos = clf.predict_proba(test_X)[:, 1]\n",
    "    else:  # use decision function\n",
    "        prob_pos = clf.decision_function(test_X)\n",
    "        prob_pos = \\\n",
    "            (prob_pos - prob_pos.min()) / (prob_pos.max() - prob_pos.min())\n",
    "    fraction_of_positives, mean_predicted_value = \\\n",
    "        calibration_curve(test_y, prob_pos, n_bins=10)\n",
    "\n",
    "    ax1.plot(mean_predicted_value, fraction_of_positives, \"s-\",\n",
    "             label=\"%s\" % (name, ))\n",
    "\n",
    "    ax2.hist(prob_pos, range=(0, 1), bins=20, label=name,\n",
    "             histtype=\"step\", lw=2)\n",
    "\n",
    "ax1.set_ylabel(\"Fraction of positives\")\n",
    "ax1.set_ylim([-0.05, 1.05])\n",
    "ax1.legend(loc=\"lower right\")\n",
    "ax1.set_title('Calibration plots  (reliability curve)')\n",
    "\n",
    "ax2.set_xlabel(\"Mean predicted value\")\n",
    "ax2.set_ylabel(\"Count\")\n",
    "ax2.legend(loc=\"upper center\", ncol=2)\n",
    "\n",
    "plt.tight_layout()\n",
    "plt.show()"
   ]
  },
  {
   "cell_type": "markdown",
   "metadata": {
    "collapsed": true
   },
   "source": [
    "#### Confusion matrix to show TP/ FP/ FN/ TN"
   ]
  },
  {
   "cell_type": "code",
   "execution_count": 60,
   "metadata": {
    "collapsed": false
   },
   "outputs": [
    {
     "data": {
      "text/plain": [
       "array([[358,  37],\n",
       "       [ 19, 376]])"
      ]
     },
     "execution_count": 60,
     "metadata": {},
     "output_type": "execute_result"
    }
   ],
   "source": [
    "from sklearn.metrics import confusion_matrix\n",
    "\n",
    "confusion_matrix(test_y, y_pred)"
   ]
  },
  {
   "cell_type": "code",
   "execution_count": 61,
   "metadata": {
    "collapsed": false
   },
   "outputs": [
    {
     "name": "stdout",
     "output_type": "stream",
     "text": [
      "[[358  37]\n",
      " [ 19 376]]\n",
      "Normalized confusion matrix\n",
      "[[ 0.91  0.09]\n",
      " [ 0.05  0.95]]\n"
     ]
    },
    {
     "data": {
      "image/png": "[encoded data removed]",
      "text/plain": [
       "<matplotlib.figure.Figure at 0x7f4c677080f0>"
      ]
     },
     "metadata": {},
     "output_type": "display_data"
    }
   ],
   "source": [
    "import matplotlib.pyplot as plt\n",
    "# Compute confusion matrix\n",
    "cm = confusion_matrix(test_y, y_pred)\n",
    "np.set_printoptions(precision=2)\n",
    "print(cm)\n",
    "class_names = ['Positive (Gated)', 'Negative (not gated)']\n",
    "\n",
    "import itertools\n",
    "def plot_confusion_matrix(cm, classes,\n",
    "                          normalize=False,\n",
    "                          title='Confusion matrix',\n",
    "                          cmap=plt.cm.Blues):\n",
    "    \"\"\"\n",
    "    This function prints and plots the confusion matrix.\n",
    "    Normalization can be applied by setting `normalize=True`.\n",
    "    \"\"\"\n",
    "    if normalize:\n",
    "        cm = cm.astype('float') / cm.sum(axis=1)[:, np.newaxis]\n",
    "        print(\"Normalized confusion matrix\")\n",
    "    else:\n",
    "        print('Confusion matrix, without normalization')\n",
    "\n",
    "    print(cm)\n",
    "    \n",
    "    \n",
    "    classes = class_names\n",
    "    tick_marks = np.arange(len(classes)) \n",
    "    plt.imshow(cm, interpolation='nearest', cmap=cmap)\n",
    "    plt.title('Confusion matrix')\n",
    "    plt.colorbar()\n",
    "    plt.xticks(tick_marks, classes)\n",
    "    plt.yticks(tick_marks, classes)\n",
    "   \n",
    "    fmt = '.2f' if normalize else 'd'\n",
    "    thresh = cm.max() / 2.\n",
    "    for i, j in itertools.product(range(cm.shape[0]), range(cm.shape[1])):\n",
    "        plt.text(j, i, format(cm[i, j], fmt),\n",
    "                 horizontalalignment=\"center\", fontsize= 20,\n",
    "                 color=\"white\" if cm[i, j] > thresh else \"black\")\n",
    "\n",
    "    plt.tight_layout()\n",
    "    plt.ylabel('True label')\n",
    "    plt.xlabel('Predicted label')\n",
    "    plt.show()\n",
    "\n",
    "# Compute confusion matrix\n",
    "cnf_matrix = confusion_matrix(test_y, y_pred)\n",
    "np.set_printoptions(precision=2)\n",
    "\n",
    "# Show confusion matrix in a separate window\n",
    "\n",
    "plt.figure()\n",
    "plot_confusion_matrix(cnf_matrix, classes=class_names,normalize=True,\n",
    "                      title='Normalized confusion matrix')"
   ]
  },
  {
   "cell_type": "code",
   "execution_count": 62,
   "metadata": {
    "collapsed": false
   },
   "outputs": [
    {
     "data": {
      "text/plain": [
       "{'classifier': LogisticRegression(C=2.0, class_weight=None, dual=False, fit_intercept=True,\n",
       "           intercept_scaling=1, max_iter=100, multi_class='ovr', n_jobs=1,\n",
       "           penalty='l2', random_state=None, solver='liblinear', tol=0.0001,\n",
       "           verbose=0, warm_start=False),\n",
       " 'classifier__C': 2.0,\n",
       " 'classifier__class_weight': None,\n",
       " 'classifier__dual': False,\n",
       " 'classifier__fit_intercept': True,\n",
       " 'classifier__intercept_scaling': 1,\n",
       " 'classifier__max_iter': 100,\n",
       " 'classifier__multi_class': 'ovr',\n",
       " 'classifier__n_jobs': 1,\n",
       " 'classifier__penalty': 'l2',\n",
       " 'classifier__random_state': None,\n",
       " 'classifier__solver': 'liblinear',\n",
       " 'classifier__tol': 0.0001,\n",
       " 'classifier__verbose': 0,\n",
       " 'classifier__warm_start': False,\n",
       " 'steps': [('vectorizer',\n",
       "   CountVectorizer(analyzer='word', binary=False, decode_error='strict',\n",
       "           dtype=<class 'numpy.int64'>, encoding='utf-8', input='content',\n",
       "           lowercase=True, max_df=1.0, max_features=10000, min_df=1,\n",
       "           ngram_range=(1, 3), preprocessor=None, stop_words=None,\n",
       "           strip_accents=None, token_pattern='(?u)\\\\b\\\\w\\\\w+\\\\b',\n",
       "           tokenizer=<function word_tokenize at 0x7f4c68e11bf8>,\n",
       "           vocabulary=None)),\n",
       "  ('transformer',\n",
       "   TfidfTransformer(norm='l2', smooth_idf=True, sublinear_tf=False, use_idf=True)),\n",
       "  ('classifier',\n",
       "   LogisticRegression(C=2.0, class_weight=None, dual=False, fit_intercept=True,\n",
       "             intercept_scaling=1, max_iter=100, multi_class='ovr', n_jobs=1,\n",
       "             penalty='l2', random_state=None, solver='liblinear', tol=0.0001,\n",
       "             verbose=0, warm_start=False))],\n",
       " 'transformer': TfidfTransformer(norm='l2', smooth_idf=True, sublinear_tf=False, use_idf=True),\n",
       " 'transformer__norm': 'l2',\n",
       " 'transformer__smooth_idf': True,\n",
       " 'transformer__sublinear_tf': False,\n",
       " 'transformer__use_idf': True,\n",
       " 'vectorizer': CountVectorizer(analyzer='word', binary=False, decode_error='strict',\n",
       "         dtype=<class 'numpy.int64'>, encoding='utf-8', input='content',\n",
       "         lowercase=True, max_df=1.0, max_features=10000, min_df=1,\n",
       "         ngram_range=(1, 3), preprocessor=None, stop_words=None,\n",
       "         strip_accents=None, token_pattern='(?u)\\\\b\\\\w\\\\w+\\\\b',\n",
       "         tokenizer=<function word_tokenize at 0x7f4c68e11bf8>,\n",
       "         vocabulary=None),\n",
       " 'vectorizer__analyzer': 'word',\n",
       " 'vectorizer__binary': False,\n",
       " 'vectorizer__decode_error': 'strict',\n",
       " 'vectorizer__dtype': numpy.int64,\n",
       " 'vectorizer__encoding': 'utf-8',\n",
       " 'vectorizer__input': 'content',\n",
       " 'vectorizer__lowercase': True,\n",
       " 'vectorizer__max_df': 1.0,\n",
       " 'vectorizer__max_features': 10000,\n",
       " 'vectorizer__min_df': 1,\n",
       " 'vectorizer__ngram_range': (1, 3),\n",
       " 'vectorizer__preprocessor': None,\n",
       " 'vectorizer__stop_words': None,\n",
       " 'vectorizer__strip_accents': None,\n",
       " 'vectorizer__token_pattern': '(?u)\\\\b\\\\w\\\\w+\\\\b',\n",
       " 'vectorizer__tokenizer': <function nltk.tokenize.word_tokenize>,\n",
       " 'vectorizer__vocabulary': None}"
      ]
     },
     "execution_count": 62,
     "metadata": {},
     "output_type": "execute_result"
    }
   ],
   "source": [
    "trigram_clf.get_params()"
   ]
  },
  {
   "cell_type": "markdown",
   "metadata": {
    "collapsed": true
   },
   "source": [
    "### Trying grid search"
   ]
  },
  {
   "cell_type": "code",
   "execution_count": 63,
   "metadata": {
    "collapsed": true
   },
   "outputs": [],
   "source": [
    "from sklearn.model_selection import GridSearchCV\n",
    "from sklearn.model_selection import RandomizedSearchCV\n",
    "from sklearn.datasets import load_digits\n",
    "from scipy.stats import randint as sp_randint\n",
    "from time import time"
   ]
  },
  {
   "cell_type": "code",
   "execution_count": 64,
   "metadata": {
    "collapsed": true
   },
   "outputs": [],
   "source": [
    "# Utility function to report best scores\n",
    "def report(results, n_top=3):\n",
    "    for i in range(1, n_top + 1):\n",
    "        candidates = np.flatnonzero(results['rank_test_score'] == i)\n",
    "        for candidate in candidates:\n",
    "            print(\"Model with rank: {0}\".format(i))\n",
    "            print(\"Mean validation score: {0:.3f} (std: {1:.3f})\".format(\n",
    "                  results['mean_test_score'][candidate],\n",
    "                  results['std_test_score'][candidate]))\n",
    "            print(\"Parameters: {0}\".format(results['params'][candidate]))\n",
    "            print(\"\")"
   ]
  },
  {
   "cell_type": "code",
   "execution_count": 65,
   "metadata": {
    "collapsed": false
   },
   "outputs": [],
   "source": [
    "param_grid = {'C': [0.001, 0.01, 0.1, 1, 10, 100, 1000], 'gamma': [0.001, 0.01, 0.1, 1.0], 'kernel': ['linear','rbf']}"
   ]
  },
  {
   "cell_type": "code",
   "execution_count": 66,
   "metadata": {
    "collapsed": true
   },
   "outputs": [],
   "source": [
    "clf = GridSearchCV(trigram_clf, param_grid)"
   ]
  },
  {
   "cell_type": "code",
   "execution_count": 67,
   "metadata": {
    "collapsed": false
   },
   "outputs": [],
   "source": [
    "clf_GS = GridSearchCV(cv=5, estimator=LogisticRegression(C=1.0, intercept_scaling=1, dual=False, fit_intercept=True, penalty='l2', tol=0.0001),\n",
    "             param_grid={'C': [0.001, 0.01, 0.1, 1, 10, 100, 1000]})"
   ]
  },
  {
   "cell_type": "code",
   "execution_count": 68,
   "metadata": {
    "collapsed": false
   },
   "outputs": [
    {
     "data": {
      "text/plain": [
       "GridSearchCV(cv=5, error_score='raise',\n",
       "       estimator=LogisticRegression(C=1.0, class_weight=None, dual=False, fit_intercept=True,\n",
       "          intercept_scaling=1, max_iter=100, multi_class='ovr', n_jobs=1,\n",
       "          penalty='l2', random_state=None, solver='liblinear', tol=0.0001,\n",
       "          verbose=0, warm_start=False),\n",
       "       fit_params={}, iid=True, n_jobs=1,\n",
       "       param_grid={'C': [0.001, 0.01, 0.1, 1, 10, 100, 1000]},\n",
       "       pre_dispatch='2*n_jobs', refit=True, return_train_score=True,\n",
       "       scoring=None, verbose=0)"
      ]
     },
     "execution_count": 68,
     "metadata": {},
     "output_type": "execute_result"
    }
   ],
   "source": [
    "clf_GS.fit(X_transformed, train_y)"
   ]
  },
  {
   "cell_type": "code",
   "execution_count": 69,
   "metadata": {
    "collapsed": false
   },
   "outputs": [
    {
     "data": {
      "text/plain": [
       "{'C': 1000}"
      ]
     },
     "execution_count": 69,
     "metadata": {},
     "output_type": "execute_result"
    }
   ],
   "source": [
    "clf_GS.best_params_"
   ]
  },
  {
   "cell_type": "code",
   "execution_count": 70,
   "metadata": {
    "collapsed": false
   },
   "outputs": [
    {
     "data": {
      "text/plain": [
       "LogisticRegression(C=1000, class_weight=None, dual=False, fit_intercept=True,\n",
       "          intercept_scaling=1, max_iter=100, multi_class='ovr', n_jobs=1,\n",
       "          penalty='l2', random_state=None, solver='liblinear', tol=0.0001,\n",
       "          verbose=0, warm_start=False)"
      ]
     },
     "execution_count": 70,
     "metadata": {},
     "output_type": "execute_result"
    }
   ],
   "source": [
    "clf_GS.best_estimator_"
   ]
  },
  {
   "cell_type": "code",
   "execution_count": 71,
   "metadata": {
    "collapsed": false
   },
   "outputs": [
    {
     "data": {
      "text/plain": [
       "0.94803548795944237"
      ]
     },
     "execution_count": 71,
     "metadata": {},
     "output_type": "execute_result"
    }
   ],
   "source": [
    "clf_GS.best_score_"
   ]
  },
  {
   "cell_type": "code",
   "execution_count": 72,
   "metadata": {
    "collapsed": false
   },
   "outputs": [
    {
     "data": {
      "text/plain": [
       "dict_keys(['classifier__class_weight', 'vectorizer__stop_words', 'vectorizer__preprocessor', 'transformer__sublinear_tf', 'classifier__solver', 'classifier__max_iter', 'steps', 'vectorizer__binary', 'vectorizer__input', 'vectorizer__max_df', 'vectorizer__dtype', 'vectorizer__ngram_range', 'classifier__random_state', 'classifier__fit_intercept', 'classifier__n_jobs', 'vectorizer__encoding', 'vectorizer__decode_error', 'classifier__multi_class', 'vectorizer__tokenizer', 'vectorizer', 'vectorizer__max_features', 'vectorizer__strip_accents', 'classifier__tol', 'classifier__penalty', 'classifier__C', 'vectorizer__min_df', 'classifier__verbose', 'classifier', 'transformer', 'transformer__use_idf', 'classifier__dual', 'transformer__smooth_idf', 'classifier__warm_start', 'vectorizer__vocabulary', 'vectorizer__analyzer', 'vectorizer__lowercase', 'transformer__norm', 'vectorizer__token_pattern', 'classifier__intercept_scaling'])"
      ]
     },
     "execution_count": 72,
     "metadata": {},
     "output_type": "execute_result"
    }
   ],
   "source": [
    "trigram_clf.get_params().keys()"
   ]
  },
  {
   "cell_type": "code",
   "execution_count": 77,
   "metadata": {
    "collapsed": false
   },
   "outputs": [
    {
     "data": {
      "text/html": [
       "<div>\n",
       "<style>\n",
       "    .dataframe thead tr:only-child th {\n",
       "        text-align: right;\n",
       "    }\n",
       "\n",
       "    .dataframe thead th {\n",
       "        text-align: left;\n",
       "    }\n",
       "\n",
       "    .dataframe tbody tr th {\n",
       "        vertical-align: top;\n",
       "    }\n",
       "</style>\n",
       "<table border=\"1\" class=\"dataframe\">\n",
       "  <thead>\n",
       "    <tr style=\"text-align: right;\">\n",
       "      <th></th>\n",
       "      <th>mean_fit_time</th>\n",
       "      <th>mean_score_time</th>\n",
       "      <th>mean_test_score</th>\n",
       "      <th>mean_train_score</th>\n",
       "      <th>param_C</th>\n",
       "      <th>params</th>\n",
       "      <th>rank_test_score</th>\n",
       "      <th>split0_test_score</th>\n",
       "      <th>split0_train_score</th>\n",
       "      <th>split1_test_score</th>\n",
       "      <th>...</th>\n",
       "      <th>split2_test_score</th>\n",
       "      <th>split2_train_score</th>\n",
       "      <th>split3_test_score</th>\n",
       "      <th>split3_train_score</th>\n",
       "      <th>split4_test_score</th>\n",
       "      <th>split4_train_score</th>\n",
       "      <th>std_fit_time</th>\n",
       "      <th>std_score_time</th>\n",
       "      <th>std_test_score</th>\n",
       "      <th>std_train_score</th>\n",
       "    </tr>\n",
       "  </thead>\n",
       "  <tbody>\n",
       "    <tr>\n",
       "      <th>0</th>\n",
       "      <td>0.020458</td>\n",
       "      <td>0.000598</td>\n",
       "      <td>0.836819</td>\n",
       "      <td>0.840701</td>\n",
       "      <td>0.001</td>\n",
       "      <td>{'C': 0.001}</td>\n",
       "      <td>6</td>\n",
       "      <td>0.844937</td>\n",
       "      <td>0.838748</td>\n",
       "      <td>0.813291</td>\n",
       "      <td>...</td>\n",
       "      <td>0.846276</td>\n",
       "      <td>0.840000</td>\n",
       "      <td>0.835182</td>\n",
       "      <td>0.840792</td>\n",
       "      <td>0.844444</td>\n",
       "      <td>0.838084</td>\n",
       "      <td>0.003061</td>\n",
       "      <td>0.000009</td>\n",
       "      <td>0.012413</td>\n",
       "      <td>0.002756</td>\n",
       "    </tr>\n",
       "    <tr>\n",
       "      <th>1</th>\n",
       "      <td>0.026266</td>\n",
       "      <td>0.000591</td>\n",
       "      <td>0.819708</td>\n",
       "      <td>0.823115</td>\n",
       "      <td>0.01</td>\n",
       "      <td>{'C': 0.01}</td>\n",
       "      <td>7</td>\n",
       "      <td>0.829114</td>\n",
       "      <td>0.821712</td>\n",
       "      <td>0.794304</td>\n",
       "      <td>...</td>\n",
       "      <td>0.833597</td>\n",
       "      <td>0.820198</td>\n",
       "      <td>0.816165</td>\n",
       "      <td>0.824158</td>\n",
       "      <td>0.825397</td>\n",
       "      <td>0.822249</td>\n",
       "      <td>0.000089</td>\n",
       "      <td>0.000006</td>\n",
       "      <td>0.013946</td>\n",
       "      <td>0.002428</td>\n",
       "    </tr>\n",
       "    <tr>\n",
       "      <th>2</th>\n",
       "      <td>0.033312</td>\n",
       "      <td>0.000595</td>\n",
       "      <td>0.865019</td>\n",
       "      <td>0.873336</td>\n",
       "      <td>0.1</td>\n",
       "      <td>{'C': 0.1}</td>\n",
       "      <td>5</td>\n",
       "      <td>0.876582</td>\n",
       "      <td>0.872029</td>\n",
       "      <td>0.844937</td>\n",
       "      <td>...</td>\n",
       "      <td>0.868463</td>\n",
       "      <td>0.870495</td>\n",
       "      <td>0.862124</td>\n",
       "      <td>0.874851</td>\n",
       "      <td>0.873016</td>\n",
       "      <td>0.874109</td>\n",
       "      <td>0.000174</td>\n",
       "      <td>0.000006</td>\n",
       "      <td>0.011151</td>\n",
       "      <td>0.001797</td>\n",
       "    </tr>\n",
       "    <tr>\n",
       "      <th>3</th>\n",
       "      <td>0.046667</td>\n",
       "      <td>0.000597</td>\n",
       "      <td>0.923954</td>\n",
       "      <td>0.947719</td>\n",
       "      <td>1</td>\n",
       "      <td>{'C': 1}</td>\n",
       "      <td>4</td>\n",
       "      <td>0.928797</td>\n",
       "      <td>0.947306</td>\n",
       "      <td>0.906646</td>\n",
       "      <td>...</td>\n",
       "      <td>0.927100</td>\n",
       "      <td>0.948119</td>\n",
       "      <td>0.933439</td>\n",
       "      <td>0.945743</td>\n",
       "      <td>0.923810</td>\n",
       "      <td>0.947743</td>\n",
       "      <td>0.000658</td>\n",
       "      <td>0.000009</td>\n",
       "      <td>0.009201</td>\n",
       "      <td>0.001272</td>\n",
       "    </tr>\n",
       "    <tr>\n",
       "      <th>4</th>\n",
       "      <td>0.070300</td>\n",
       "      <td>0.000599</td>\n",
       "      <td>0.946451</td>\n",
       "      <td>0.993425</td>\n",
       "      <td>10</td>\n",
       "      <td>{'C': 10}</td>\n",
       "      <td>3</td>\n",
       "      <td>0.947785</td>\n",
       "      <td>0.993265</td>\n",
       "      <td>0.935127</td>\n",
       "      <td>...</td>\n",
       "      <td>0.950872</td>\n",
       "      <td>0.993267</td>\n",
       "      <td>0.944532</td>\n",
       "      <td>0.992475</td>\n",
       "      <td>0.953968</td>\n",
       "      <td>0.992874</td>\n",
       "      <td>0.002678</td>\n",
       "      <td>0.000010</td>\n",
       "      <td>0.006478</td>\n",
       "      <td>0.000956</td>\n",
       "    </tr>\n",
       "    <tr>\n",
       "      <th>5</th>\n",
       "      <td>0.110051</td>\n",
       "      <td>0.000600</td>\n",
       "      <td>0.947719</td>\n",
       "      <td>0.998970</td>\n",
       "      <td>100</td>\n",
       "      <td>{'C': 100}</td>\n",
       "      <td>2</td>\n",
       "      <td>0.947785</td>\n",
       "      <td>0.999208</td>\n",
       "      <td>0.939873</td>\n",
       "      <td>...</td>\n",
       "      <td>0.949287</td>\n",
       "      <td>0.999208</td>\n",
       "      <td>0.946117</td>\n",
       "      <td>0.998812</td>\n",
       "      <td>0.955556</td>\n",
       "      <td>0.998812</td>\n",
       "      <td>0.005788</td>\n",
       "      <td>0.000006</td>\n",
       "      <td>0.005059</td>\n",
       "      <td>0.000194</td>\n",
       "    </tr>\n",
       "    <tr>\n",
       "      <th>6</th>\n",
       "      <td>0.147247</td>\n",
       "      <td>0.000599</td>\n",
       "      <td>0.948035</td>\n",
       "      <td>0.998970</td>\n",
       "      <td>1000</td>\n",
       "      <td>{'C': 1000}</td>\n",
       "      <td>1</td>\n",
       "      <td>0.949367</td>\n",
       "      <td>0.999208</td>\n",
       "      <td>0.941456</td>\n",
       "      <td>...</td>\n",
       "      <td>0.950872</td>\n",
       "      <td>0.999208</td>\n",
       "      <td>0.946117</td>\n",
       "      <td>0.998812</td>\n",
       "      <td>0.952381</td>\n",
       "      <td>0.998812</td>\n",
       "      <td>0.013753</td>\n",
       "      <td>0.000009</td>\n",
       "      <td>0.003891</td>\n",
       "      <td>0.000194</td>\n",
       "    </tr>\n",
       "  </tbody>\n",
       "</table>\n",
       "<p>7 rows × 21 columns</p>\n",
       "</div>"
      ],
      "text/plain": [
       "   mean_fit_time  mean_score_time  mean_test_score  mean_train_score param_C  \\\n",
       "0       0.020458         0.000598         0.836819          0.840701   0.001   \n",
       "1       0.026266         0.000591         0.819708          0.823115    0.01   \n",
       "2       0.033312         0.000595         0.865019          0.873336     0.1   \n",
       "3       0.046667         0.000597         0.923954          0.947719       1   \n",
       "4       0.070300         0.000599         0.946451          0.993425      10   \n",
       "5       0.110051         0.000600         0.947719          0.998970     100   \n",
       "6       0.147247         0.000599         0.948035          0.998970    1000   \n",
       "\n",
       "         params  rank_test_score  split0_test_score  split0_train_score  \\\n",
       "0  {'C': 0.001}                6           0.844937            0.838748   \n",
       "1   {'C': 0.01}                7           0.829114            0.821712   \n",
       "2    {'C': 0.1}                5           0.876582            0.872029   \n",
       "3      {'C': 1}                4           0.928797            0.947306   \n",
       "4     {'C': 10}                3           0.947785            0.993265   \n",
       "5    {'C': 100}                2           0.947785            0.999208   \n",
       "6   {'C': 1000}                1           0.949367            0.999208   \n",
       "\n",
       "   split1_test_score       ...         split2_test_score  split2_train_score  \\\n",
       "0           0.813291       ...                  0.846276            0.840000   \n",
       "1           0.794304       ...                  0.833597            0.820198   \n",
       "2           0.844937       ...                  0.868463            0.870495   \n",
       "3           0.906646       ...                  0.927100            0.948119   \n",
       "4           0.935127       ...                  0.950872            0.993267   \n",
       "5           0.939873       ...                  0.949287            0.999208   \n",
       "6           0.941456       ...                  0.950872            0.999208   \n",
       "\n",
       "   split3_test_score  split3_train_score  split4_test_score  \\\n",
       "0           0.835182            0.840792           0.844444   \n",
       "1           0.816165            0.824158           0.825397   \n",
       "2           0.862124            0.874851           0.873016   \n",
       "3           0.933439            0.945743           0.923810   \n",
       "4           0.944532            0.992475           0.953968   \n",
       "5           0.946117            0.998812           0.955556   \n",
       "6           0.946117            0.998812           0.952381   \n",
       "\n",
       "   split4_train_score  std_fit_time  std_score_time  std_test_score  \\\n",
       "0            0.838084      0.003061        0.000009        0.012413   \n",
       "1            0.822249      0.000089        0.000006        0.013946   \n",
       "2            0.874109      0.000174        0.000006        0.011151   \n",
       "3            0.947743      0.000658        0.000009        0.009201   \n",
       "4            0.992874      0.002678        0.000010        0.006478   \n",
       "5            0.998812      0.005788        0.000006        0.005059   \n",
       "6            0.998812      0.013753        0.000009        0.003891   \n",
       "\n",
       "   std_train_score  \n",
       "0         0.002756  \n",
       "1         0.002428  \n",
       "2         0.001797  \n",
       "3         0.001272  \n",
       "4         0.000956  \n",
       "5         0.000194  \n",
       "6         0.000194  \n",
       "\n",
       "[7 rows x 21 columns]"
      ]
     },
     "execution_count": 77,
     "metadata": {},
     "output_type": "execute_result"
    }
   ],
   "source": [
    "pd.DataFrame(clf_GS.cv_results_)"
   ]
  },
  {
   "cell_type": "code",
   "execution_count": 75,
   "metadata": {
    "collapsed": false
   },
   "outputs": [
    {
     "data": {
      "text/plain": [
       "dict_keys(['classifier__class_weight', 'vectorizer__stop_words', 'vectorizer__preprocessor', 'transformer__sublinear_tf', 'classifier__solver', 'classifier__max_iter', 'steps', 'vectorizer__binary', 'vectorizer__input', 'vectorizer__max_df', 'vectorizer__dtype', 'vectorizer__ngram_range', 'classifier__random_state', 'classifier__fit_intercept', 'classifier__n_jobs', 'vectorizer__encoding', 'vectorizer__decode_error', 'classifier__multi_class', 'vectorizer__tokenizer', 'vectorizer', 'vectorizer__max_features', 'vectorizer__strip_accents', 'classifier__tol', 'classifier__penalty', 'classifier__C', 'vectorizer__min_df', 'classifier__verbose', 'classifier', 'transformer', 'transformer__use_idf', 'classifier__dual', 'transformer__smooth_idf', 'classifier__warm_start', 'vectorizer__vocabulary', 'vectorizer__analyzer', 'vectorizer__lowercase', 'transformer__norm', 'vectorizer__token_pattern', 'classifier__intercept_scaling'])"
      ]
     },
     "execution_count": 75,
     "metadata": {},
     "output_type": "execute_result"
    }
   ],
   "source": [
    "trigram_clf.get_params().keys()"
   ]
  },
  {
   "cell_type": "code",
   "execution_count": null,
   "metadata": {
    "collapsed": true
   },
   "outputs": [],
   "source": []
  }
 ],
 "metadata": {
  "anaconda-cloud": {},
  "kernelspec": {
   "display_name": "Python [default]",
   "language": "python",
   "name": "python3"
  },
  "language_info": {
   "codemirror_mode": {
    "name": "ipython",
    "version": 3
   },
   "file_extension": ".py",
   "mimetype": "text/x-python",
   "name": "python",
   "nbconvert_exporter": "python",
   "pygments_lexer": "ipython3",
   "version": "3.5.2"
  }
 },
 "nbformat": 4,
 "nbformat_minor": 2
}
