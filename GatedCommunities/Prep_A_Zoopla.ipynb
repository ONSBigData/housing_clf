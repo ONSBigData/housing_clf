{
 "cells": [
  {
   "cell_type": "markdown",
   "metadata": {
    "collapsed": false
   },
   "source": [
    "import pandas as pd\n",
    "import re\n",
    "from pandas import Timestamp\n",
    "import statsmodels\n",
    "from operator import itemgetter\n",
    "import string\n",
    "import numpy as np\n",
    "from collections import Counter\n",
    "from sklearn.metrics import accuracy_score,classification_report\n",
    "from nltk.sentiment.vader import SentimentIntensityAnalyzer\n",
    "from nltk.corpus import stopwords as sw\n",
    "from nltk.corpus import wordnet as wn\n",
    "from nltk import wordpunct_tokenize\n",
    "from nltk import WordNetLemmatizer\n",
    "from nltk import sent_tokenize\n",
    "from nltk import pos_tag\n",
    "from nltk import bigrams\n",
    "from nltk import word_tokenize\n",
    "from nltk.sentiment.util import mark_negation\n",
    "from sklearn.feature_extraction.text import CountVectorizer\n",
    "from sklearn.feature_extraction.text import TfidfVectorizer\n",
    "from sklearn.feature_extraction.text import TfidfTransformer\n",
    "from sklearn.pipeline import Pipeline\n",
    "from sklearn.svm import LinearSVC\n",
    "from sklearn.base import TransformerMixin\n",
    "from sklearn.naive_bayes import MultinomialNB\n",
    "from sklearn.linear_model import LogisticRegression\n",
    "from sklearn.linear_model import SGDClassifier\n",
    "from sklearn.base import BaseEstimator, TransformerMixin\n",
    "from sklearn.model_selection import cross_val_score\n",
    "from sklearn.model_selection import train_test_split\n",
    "from sklearn.metrics import classification_report\n",
    "from sklearn.ensemble import RandomForestClassifier\n",
    "from sklearn.neural_network import MLPClassifier"
   ]
  },
  {
   "cell_type": "markdown",
   "metadata": {
    "collapsed": false
   },
   "source": [
    "df_A = pd.read_csv('a_file.csv', encoding='latin1')"
   ]
  },
  {
   "cell_type": "markdown",
   "metadata": {
    "collapsed": false
   },
   "source": [
    "print(list(df_A))\n",
    "print(df_A.shape)"
   ]
  },
  {
   "cell_type": "markdown",
   "metadata": {
    "collapsed": false
   },
   "source": []
  },
  {
   "cell_type": "markdown",
   "metadata": {
    "collapsed": false
   },
   "source": [
    "df_A['postcode'] = df_A['outcode'].map(str) + ' ' + df_A['incode'].map(str) \n",
    "df_A.shape"
   ]
  },
  {
   "cell_type": "markdown",
   "metadata": {},
   "source": [
    "### Have a problem- postcode is sometimes in displayable address, so preserves the bit in displayabe address (and looks messy). Cut the postcode out of the displayable address:"
   ]
  },
  {
   "cell_type": "markdown",
   "metadata": {
    "collapsed": false
   },
   "source": [
    "df_A['displayable_address'] = df_A['displayable_address'].str.lower()\n",
    "df_A['incode'] = df_A['incode'].str.lower()\n",
    "df_A['outcode'] = df_A['outcode'].str.lower()"
   ]
  },
  {
   "cell_type": "markdown",
   "metadata": {
    "collapsed": false
   },
   "source": [
    "%timeit df_A['displayable_address'] = [''.join(str(e).split(k)) for e, k in zip(df_A.displayable_address.astype('str'), df_A.outcode.astype('str'))]"
   ]
  },
  {
   "cell_type": "markdown",
   "metadata": {
    "collapsed": false
   },
   "source": [
    "%timeit df_A['displayable_address'] = [''.join(str(e).split(k)) for e, k in zip(df_A.displayable_address.astype('str'), df_A.incode.astype('str'))]"
   ]
  },
  {
   "cell_type": "markdown",
   "metadata": {
    "collapsed": false
   },
   "source": [
    "df_A.drop(['outcode', 'incode'], axis=1, inplace=True)\n",
    "print(list(df_A))\n",
    "print(df_A.shape)"
   ]
  },
  {
   "cell_type": "markdown",
   "metadata": {},
   "source": [
    "### Concatenate and deduplicate address"
   ]
  },
  {
   "cell_type": "markdown",
   "metadata": {
    "collapsed": false
   },
   "source": [
    "df_A['address'] = df_A['street_name'].map(str) + ' ' + df_A['displayable_address'].map(str) + ' ' + df_A['post_town'].map(str) + ' ' + df_A['county'].map(str) + ' ' + df_A['country'].map(str)  + ' ' + df_A['postcode'].map(str)"
   ]
  },
  {
   "cell_type": "markdown",
   "metadata": {
    "collapsed": true
   },
   "source": [
    "df_A['address'] = df_A['address'].apply(lambda x : x.encode('ascii', errors='ignore').decode('latin1'))"
   ]
  },
  {
   "cell_type": "markdown",
   "metadata": {
    "collapsed": false
   },
   "source": [
    "df_A['address'] = df_A['address'].str.lower()\n",
    "df_A['address'] = df_A['address'].str.replace(',', '')\n",
    "df_A['address'] = df_A['address'].str.replace('shrie', 'shire')\n",
    "df_A['address'] = df_A['address'].apply(lambda x: re.sub(' +', ' ',x))\n",
    "df_A['address'] = df_A['address'].apply(lambda x: ' '.join(pd.unique(x.split())))\n",
    "df_A['address'].head()"
   ]
  },
  {
   "cell_type": "markdown",
   "metadata": {
    "collapsed": false
   },
   "source": [
    "df_A = df_A.drop(['street_name','displayable_address','post_town', 'county', 'country'], axis=1)"
   ]
  },
  {
   "cell_type": "markdown",
   "metadata": {
    "collapsed": false
   },
   "source": [
    "df_A['address'] = df_A['address'].str.replace('\\n',' ')\n",
    "df_A['address'] = df_A['address'].str.replace('&amp;pound;','£')\n",
    "df_A['address'] = df_A['address'].str.replace('&amp;','&')\n",
    "df_A['address'] = df_A['address'].str.replace('&amp;amp','&')\n",
    "df_A['address'] = df_A['address'].str.replace('&amp;quot','\"')\n",
    "df_A['address'] = df_A['address'].str.replace('&amp;nbsp',' ')\n",
    "df_A['address'] = df_A['address'].str.replace('&amp;#39',\"'\")\n",
    "df_A['address'] = df_A['address'].str.replace('&#39',\"'\")\n",
    "df_A['address'] = df_A['address'].str.replace('&#x2019',\"'\")\n",
    "df_A['address'] = df_A['address'].str.replace('&#x2018',\"'\")\n",
    "df_A['address'] = df_A['address'].str.replace('&#x2013',\"-\")\n",
    "df_A['address'] = df_A['address'].str.replace('.&#13;&#10;',\" \")\n",
    "df_A['address'] = df_A['address'].str.replace('&#8217;',\"'\")\n",
    "df_A['address'] = df_A['address'].str.replace('&nbsp;',' ')\n",
    "df_A['address'] = df_A['address'].str.replace('&quot','\"')\n",
    "df_A['address'] = df_A['address'].str.replace('&#231',\"'\")"
   ]
  },
  {
   "cell_type": "markdown",
   "metadata": {
    "collapsed": false
   },
   "source": [
    "df_A['description'] = df_A['description'].str.replace('\\n',' ')\n",
    "df_A['description'] = df_A['description'].str.replace('&amp;pound;','£')\n",
    "df_A['description'] = df_A['description'].str.replace('&amp;','&')\n",
    "df_A['description'] = df_A['description'].str.replace('&amp;amp','&')\n",
    "df_A['description'] = df_A['description'].str.replace('&amp;quot','\"')\n",
    "df_A['description'] = df_A['description'].str.replace('&amp;nbsp',' ')\n",
    "df_A['description'] = df_A['description'].str.replace('&amp;#39',\"'\")\n",
    "df_A['description'] = df_A['description'].str.replace('&#39',\"'\")\n",
    "df_A['description'] = df_A['description'].str.replace('&#x2019',\"'\")\n",
    "df_A['description'] = df_A['description'].str.replace('&#x2018',\"'\")\n",
    "df_A['description'] = df_A['description'].str.replace('&#x2013',\"-\")\n",
    "df_A['description'] = df_A['description'].str.replace('.&#13;&#10;',\" \")\n",
    "df_A['description'] = df_A['description'].str.replace('&#8217;',\"'\")\n",
    "df_A['description'] = df_A['description'].str.replace('&nbsp;',' ')\n",
    "df_A['description'] = df_A['description'].str.replace('&quot','\"')\n",
    "df_A['description'] = df_A['description'].str.replace('&#231',\"'\")"
   ]
  },
  {
   "cell_type": "markdown",
   "metadata": {
    "collapsed": true
   },
   "source": []
  },
  {
   "cell_type": "markdown",
   "metadata": {
    "collapsed": false
   },
   "source": [
    "nspl = pd.read_csv('NSPL_MAY_2017_UK.csv')"
   ]
  },
  {
   "cell_type": "markdown",
   "metadata": {
    "collapsed": true
   },
   "source": [
    "nspl2 = pd.read_csv('NSPL_MAY_2017_UK.csv', usecols=['pcds', 'laua', 'msoa11', 'lat', 'long', 'oseast1m', 'osnrth1m'])"
   ]
  },
  {
   "cell_type": "markdown",
   "metadata": {
    "collapsed": false
   },
   "source": [
    "df_geog = pd.merge(df_A, nspl2, left_on='postcode', right_on='pcds')\n",
    "df_geog.drop(['pcds'], axis = 1, inplace= True)\n"
   ]
  },
  {
   "cell_type": "markdown",
   "metadata": {
    "collapsed": false
   },
   "source": [
    "df_geog.to_csv('ZOOPLA_A.csv')"
   ]
  },
  {
   "cell_type": "markdown",
   "metadata": {},
   "source": [
    "## Find gated communities"
   ]
  },
  {
   "cell_type": "markdown",
   "metadata": {
    "collapsed": true
   },
   "source": [
    "df_geog['description']= df_geog['description'].str.lower()\n",
    "\n",
    "df_geog['gatedcom'] = df_geog['description'].str.contains(\"gated community|gated property|gated development|gated cul-de-sac|gated mews|gated complex\")\n",
    "df_geog['gated'] = df_geog['description'].str.contains(\"gated\")\n"
   ]
  },
  {
   "cell_type": "markdown",
   "metadata": {
    "collapsed": false
   },
   "source": [
    "gated = df_geog[df_geog['gatedcom'] == True].copy()\n",
    "#gated.drop('gatedcom', axis=1, inplace=True)"
   ]
  },
  {
   "cell_type": "markdown",
   "metadata": {
    "collapsed": false
   },
   "source": [
    "gated['description'].iloc[1]"
   ]
  },
  {
   "cell_type": "markdown",
   "metadata": {
    "collapsed": false
   },
   "source": [
    "gated.shape"
   ]
  },
  {
   "cell_type": "markdown",
   "metadata": {
    "collapsed": false
   },
   "source": [
    "gated.to_csv('gatedAsample.csv')"
   ]
  },
  {
   "cell_type": "markdown",
   "metadata": {
    "collapsed": true
   },
   "source": [
    "df_geog['gated'] = df_geog['description'].str.contains(\"gated\")"
   ]
  },
  {
   "cell_type": "markdown",
   "metadata": {
    "collapsed": false
   },
   "source": [
    "gate = df_geog[df_geog['gated']==True].copy()\n",
    "gate.drop('gated', axis=1, inplace=True)"
   ]
  },
  {
   "cell_type": "markdown",
   "metadata": {
    "collapsed": false
   },
   "source": [
    "gate.shape"
   ]
  },
  {
   "cell_type": "markdown",
   "metadata": {
    "collapsed": true
   },
   "source": [
    "gate.to_csv('gated_A.csv')"
   ]
  },
  {
   "cell_type": "markdown",
   "metadata": {
    "collapsed": false
   },
   "source": [
    "import numpy as np\n",
    "np.random.seed(42)\n",
    "sample = gate.loc[np.random.choice(gate.index, 500, replace = False)]"
   ]
  },
  {
   "cell_type": "markdown",
   "metadata": {
    "collapsed": false
   },
   "source": [
    "sample.shape"
   ]
  },
  {
   "cell_type": "markdown",
   "metadata": {
    "collapsed": true
   },
   "source": [
    "sample.to_csv('gated_sample_A.csv')"
   ]
  },
  {
   "cell_type": "markdown",
   "metadata": {
    "collapsed": true
   },
   "source": [
    "dfnotgated = df_geog[df_geog['description'].str.contains(\"gated\")==False]"
   ]
  },
  {
   "cell_type": "markdown",
   "metadata": {
    "collapsed": false
   },
   "source": [
    "np.random.seed(42)\n",
    "notgated= dfnotgated.loc[np.random.choice(dfnotgated.index, 500, replace=False)]\n",
    "notgated.shape"
   ]
  },
  {
   "cell_type": "markdown",
   "metadata": {
    "collapsed": false
   },
   "source": [
    "print(list(notgated))\n",
    "notgated.drop('caravan',axis=1, inplace=True)\n"
   ]
  },
  {
   "cell_type": "markdown",
   "metadata": {
    "collapsed": true
   },
   "source": [
    "### Caravans"
   ]
  },
  {
   "cell_type": "markdown",
   "metadata": {
    "collapsed": true
   },
   "source": [
    "df_geog['caravan'] = df_geog['description'].str.contains(\"caravan|park home|mobile home|static home|static caravan\")"
   ]
  },
  {
   "cell_type": "markdown",
   "metadata": {
    "collapsed": true
   },
   "source": [
    "caravan = df_geog[df_geog['caravan']==True].copy()\n"
   ]
  },
  {
   "cell_type": "markdown",
   "metadata": {
    "collapsed": false
   },
   "source": [
    "caravan.shape"
   ]
  },
  {
   "cell_type": "markdown",
   "metadata": {
    "collapsed": true
   },
   "source": [
    "caravan.to_csv('caravan_A.csv')"
   ]
  },
  {
   "cell_type": "markdown",
   "metadata": {
    "collapsed": false
   },
   "source": [
    "not_caravan = df_geog[df_geog.description.str.contains(\"caravan|park home|mobile home|static home|static caravan\")==False]"
   ]
  },
  {
   "cell_type": "markdown",
   "metadata": {
    "collapsed": false
   },
   "source": [
    "not_caravan.shape"
   ]
  },
  {
   "cell_type": "markdown",
   "metadata": {
    "collapsed": true
   },
   "source": [
    "not_caravan.to_csv('not_caravan_A.csv')"
   ]
  },
  {
   "cell_type": "markdown",
   "metadata": {
    "collapsed": true
   },
   "source": []
  }
 ],
 "metadata": {
  "anaconda-cloud": {},
  "kernelspec": {
   "display_name": "Python [default]",
   "language": "python",
   "name": "python3"
  },
  "language_info": {
   "codemirror_mode": {
    "name": "ipython",
    "version": 3
   },
   "file_extension": ".py",
   "mimetype": "text/x-python",
   "name": "python",
   "nbconvert_exporter": "python",
   "pygments_lexer": "ipython3",
   "version": "3.5.2"
  }
 },
 "nbformat": 4,
 "nbformat_minor": 1
}
