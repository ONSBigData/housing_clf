{
 "cells": [
  {
   "cell_type": "markdown",
   "metadata": {},
   "source": [
    "### step 1: imports (usual nlp: NLTK/gensim /spaCy) / machine learning : (sklearn)"
   ]
  },
  {
   "cell_type": "code",
   "execution_count": null,
   "metadata": {
    "collapsed": true
   },
   "outputs": [],
   "source": []
  },
  {
   "cell_type": "code",
   "execution_count": 24,
   "metadata": {
    "collapsed": true
   },
   "outputs": [],
   "source": [
    "import pandas as pd\n",
    "from operator import itemgetter\n",
    "import string\n",
    "import numpy as np\n",
    "from collections import Counter\n",
    "from sklearn.metrics import accuracy_score,classification_report\n",
    "from nltk.sentiment.vader import SentimentIntensityAnalyzer\n",
    "from nltk.corpus import stopwords as sw\n",
    "from nltk.corpus import wordnet as wn\n",
    "\n",
    "from sklearn.pipeline import FeatureUnion\n",
    "from sklearn.pipeline import Pipeline\n",
    "\n",
    "from nltk import wordpunct_tokenize\n",
    "from nltk import WordNetLemmatizer\n",
    "from nltk import sent_tokenize\n",
    "from nltk import pos_tag\n",
    "from nltk import bigrams\n",
    "from nltk import word_tokenize\n",
    "\n",
    "from sklearn.feature_extraction import DictVectorizer\n",
    "from sklearn.feature_extraction.text import TfidfVectorizer\n",
    "from sklearn.metrics import classification_report\n",
    "\n",
    "from sklearn.base import BaseEstimator, TransformerMixin\n",
    "from sklearn.svm import SVC\n",
    "\n",
    "from sklearn.decomposition import TruncatedSVD\n",
    "from sklearn.preprocessing import StandardScaler\n",
    "\n",
    "from sklearn.preprocessing import StandardScaler\n",
    "from sklearn.preprocessing import MaxAbsScaler \n",
    "\n",
    "\n",
    "from nltk.sentiment.util import mark_negation\n",
    "from sklearn.feature_extraction.text import CountVectorizer\n",
    "from sklearn.feature_extraction.text import TfidfVectorizer\n",
    "from sklearn.pipeline import Pipeline\n",
    "from sklearn.svm import LinearSVC\n",
    "from sklearn.base import TransformerMixin\n",
    "from sklearn.naive_bayes import MultinomialNB\n",
    "from sklearn.linear_model import LogisticRegression\n",
    "from sklearn.linear_model import SGDClassifier\n",
    "from sklearn.base import BaseEstimator, TransformerMixin\n",
    "from sklearn.model_selection import cross_val_score\n",
    "from sklearn.model_selection import train_test_split\n",
    "from tpot import TPOTClassifier\n",
    "\n",
    "\n",
    "from sklearn.feature_extraction.text import TfidfTransformer\n",
    "from sklearn.neural_network import MLPClassifier\n",
    "from sklearn.calibration import CalibratedClassifierCV\n",
    "from sklearn.linear_model import LogisticRegressionCV\n",
    "from gensim.models.doc2vec import TaggedDocument, Doc2Vec\n",
    "from sklearn.preprocessing import Binarizer\n",
    "from sklearn.naive_bayes import MultinomialNB\n",
    "from sklearn.feature_extraction.text import CountVectorizer\n",
    "from sklearn.model_selection import cross_val_predict\n",
    "from sklearn.metrics import log_loss\n",
    "\n"
   ]
  },
  {
   "cell_type": "code",
   "execution_count": null,
   "metadata": {
    "collapsed": true
   },
   "outputs": [],
   "source": []
  },
  {
   "cell_type": "code",
   "execution_count": null,
   "metadata": {
    "collapsed": true
   },
   "outputs": [],
   "source": []
  },
  {
   "cell_type": "code",
   "execution_count": null,
   "metadata": {
    "collapsed": true
   },
   "outputs": [],
   "source": []
  },
  {
   "cell_type": "code",
   "execution_count": null,
   "metadata": {
    "collapsed": true
   },
   "outputs": [],
   "source": []
  },
  {
   "cell_type": "code",
   "execution_count": null,
   "metadata": {
    "collapsed": true
   },
   "outputs": [],
   "source": []
  },
  {
   "cell_type": "markdown",
   "metadata": {},
   "source": [
    "### step 2: create a tokenizer that uses a regexp for tokens but also performs lemmatization if possible"
   ]
  },
  {
   "cell_type": "code",
   "execution_count": 3,
   "metadata": {
    "collapsed": true
   },
   "outputs": [],
   "source": [
    "import spacy\n",
    "from nltk.corpus import stopwords\n",
    "stop = stopwords.words('english')\n",
    "import re\n",
    "regexp = re.compile('(?u)\\\\b\\\\w\\\\w+\\\\b')\n",
    "\n",
    "# load spacy language model and save old tokenizer\n",
    "en_nlp = spacy.load('en')\n",
    "old_tokenizer = en_nlp.tokenizer\n",
    "# replace the tokenizer with the preceding regexp\n",
    "en_nlp.tokenizer = lambda string: old_tokenizer.tokens_from_list(\n",
    "    regexp.findall(string))\n",
    "\n",
    "# create a custom tokenizer using the SpaCy document processing pipeline\n",
    "# (now using our own tokenizer)\n",
    "def custom_tokenizer(document):\n",
    "    doc_spacy = en_nlp(document, entity=False, parse=False)\n",
    "    return [token.lemma_ for token in doc_spacy]\n",
    "\n",
    "\n",
    "\n",
    "\n"
   ]
  },
  {
   "cell_type": "code",
   "execution_count": null,
   "metadata": {
    "collapsed": true
   },
   "outputs": [],
   "source": []
  },
  {
   "cell_type": "code",
   "execution_count": null,
   "metadata": {
    "collapsed": true
   },
   "outputs": [],
   "source": []
  },
  {
   "cell_type": "code",
   "execution_count": null,
   "metadata": {
    "collapsed": true
   },
   "outputs": [],
   "source": []
  },
  {
   "cell_type": "markdown",
   "metadata": {},
   "source": [
    "### Useful Functions\n",
    "\n",
    "#### a function to find a substring within a string. If found it outputs the position within the string.Otherwise -5000"
   ]
  },
  {
   "cell_type": "code",
   "execution_count": null,
   "metadata": {
    "collapsed": true
   },
   "outputs": [],
   "source": []
  },
  {
   "cell_type": "code",
   "execution_count": null,
   "metadata": {
    "collapsed": true
   },
   "outputs": [],
   "source": []
  },
  {
   "cell_type": "code",
   "execution_count": 4,
   "metadata": {},
   "outputs": [
    {
     "name": "stdout",
     "output_type": "stream",
     "text": [
      "-5000\n",
      "9\n"
     ]
    }
   ],
   "source": [
    "def find_str(s, char):\n",
    "    index = 0\n",
    "\n",
    "    if char in s:\n",
    "        c = char[0]\n",
    "        for ch in s:\n",
    "            if ch == c:\n",
    "                if s[index:index+len(char)] == char:\n",
    "                    return index\n",
    "\n",
    "            index += 1\n",
    "\n",
    "    return -5000\n",
    "\n",
    "#test function\n",
    "print(find_str(\"not only a development but also kind of a park home.\",\"gorilla\"))\n",
    "print(find_str(\"not only python but scala and spark and monkeys\",\"python\"))"
   ]
  },
  {
   "cell_type": "code",
   "execution_count": null,
   "metadata": {
    "collapsed": true
   },
   "outputs": [],
   "source": []
  },
  {
   "cell_type": "code",
   "execution_count": null,
   "metadata": {
    "collapsed": true
   },
   "outputs": [],
   "source": []
  },
  {
   "cell_type": "code",
   "execution_count": null,
   "metadata": {
    "collapsed": true
   },
   "outputs": [],
   "source": []
  },
  {
   "cell_type": "code",
   "execution_count": null,
   "metadata": {
    "collapsed": true
   },
   "outputs": [],
   "source": []
  },
  {
   "cell_type": "markdown",
   "metadata": {},
   "source": [
    "#### a function to output the most important features of a linear classifier. "
   ]
  },
  {
   "cell_type": "code",
   "execution_count": 5,
   "metadata": {
    "collapsed": true
   },
   "outputs": [],
   "source": [
    "\n",
    "def show_most_informative_features(model, text=None, n=15):\n",
    "    \"\"\"\n",
    "    Accepts a Pipeline with a classifer and a TfidfVectorizer and computes\n",
    "    the n most informative features of the model. If text is given, then will\n",
    "    compute the most informative features for classifying that text.\n",
    "    Note that this function will only work on linear models with coefs_\n",
    "    \"\"\"\n",
    "    # Extract the vectorizer and the classifier from the pipeline\n",
    "    vectorizer = model.named_steps['vectorizer']\n",
    "    classifier = model.named_steps['classifier']\n",
    "\n",
    "    # Check to make sure that we can perform this computation\n",
    "    if not hasattr(classifier, 'coef_'):\n",
    "        raise TypeError(\n",
    "            \"Cannot compute most informative features on {} model.\".format(\n",
    "                classifier.__class__.__name__\n",
    "            )\n",
    "        )\n",
    "\n",
    "    if text is not None:\n",
    "        # Compute the coefficients for the text\n",
    "        tvec = model.transform([text]).toarray()\n",
    "    else:\n",
    "        # Otherwise simply use the coefficients\n",
    "        tvec = classifier.coef_\n",
    "\n",
    "    # Zip the feature names with the coefs and sort\n",
    "    coefs = sorted(\n",
    "        zip(tvec[0], vectorizer.get_feature_names()),\n",
    "        key=itemgetter(0), reverse=True\n",
    "    )\n",
    "\n",
    "    topn  = zip(coefs[:n], coefs[:-(n+1):-1])\n",
    "\n",
    "    # Create the output string to return\n",
    "    output = []\n",
    "\n",
    "    # If text, add the predicted value to the output.\n",
    "    if text is not None:\n",
    "        output.append(\"\\\"{}\\\"\".format(text))\n",
    "        output.append(\"Classified as: {}\".format(model.predict([text])))\n",
    "        output.append(\"\")\n",
    "\n",
    "    # Create two columns with most negative and most positive features.\n",
    "    for (cp, fnp), (cn, fnn) in topn:\n",
    "        output.append(\n",
    "            \"{:0.4f}{: >18}                {:0.4f}{: >18}\".format(cp, fnp, cn, fnn)\n",
    "        )\n",
    "\n",
    "    return \"\\n\".join(output)"
   ]
  },
  {
   "cell_type": "code",
   "execution_count": null,
   "metadata": {
    "collapsed": true
   },
   "outputs": [],
   "source": []
  },
  {
   "cell_type": "code",
   "execution_count": null,
   "metadata": {
    "collapsed": true
   },
   "outputs": [],
   "source": []
  },
  {
   "cell_type": "markdown",
   "metadata": {
    "collapsed": true
   },
   "source": [
    "#### a function to strip punctuation and stopwords out of a dataframe text column\n",
    "(needed sometimes for preprocessing)"
   ]
  },
  {
   "cell_type": "code",
   "execution_count": 6,
   "metadata": {
    "collapsed": true
   },
   "outputs": [],
   "source": [
    "def getstopwordsout(input):\n",
    "    exclude = set(string.punctuation)\n",
    "    output = ' '.join([word for word in input.split() if word not in (stopwords.words('english'))])\n",
    "    \n",
    "    output = ''.join(ch for ch in output if ch not in exclude)\n",
    "\n",
    "    return pd.Series(dict(output=output))"
   ]
  },
  {
   "cell_type": "code",
   "execution_count": null,
   "metadata": {
    "collapsed": true
   },
   "outputs": [],
   "source": []
  },
  {
   "cell_type": "code",
   "execution_count": null,
   "metadata": {
    "collapsed": true
   },
   "outputs": [],
   "source": []
  },
  {
   "cell_type": "code",
   "execution_count": null,
   "metadata": {
    "collapsed": true
   },
   "outputs": [],
   "source": []
  },
  {
   "cell_type": "markdown",
   "metadata": {},
   "source": [
    "### Machine Learning scikit learn Estimator and Pipeline definitions"
   ]
  },
  {
   "cell_type": "code",
   "execution_count": 54,
   "metadata": {
    "collapsed": true
   },
   "outputs": [],
   "source": [
    "### ML Pipeline 1 : Countvectorizer / tfidf transformer / Logistic Regression Classifier "
   ]
  },
  {
   "cell_type": "code",
   "execution_count": null,
   "metadata": {
    "collapsed": true
   },
   "outputs": [],
   "source": []
  },
  {
   "cell_type": "code",
   "execution_count": 45,
   "metadata": {
    "collapsed": true
   },
   "outputs": [],
   "source": [
    "trigram_LR_clf = Pipeline([\n",
    "\n",
    "\n",
    "    ('vectorizer', CountVectorizer(analyzer=\"word\",\n",
    "                                   ngram_range=(1, 3),\n",
    "                                   tokenizer=custom_tokenizer,         \n",
    "                                   max_features=10000)),\n",
    "\n",
    "   \n",
    "    ('transformer', TfidfTransformer()),  # tfidf weighting on Document/Text Matrix\n",
    "\n",
    "    #('best', TruncatedSVD(n_components=200)),  # if we need dimensionality reduction \n",
    "    \n",
    "    ('classifier', LogisticRegression())     # or any other classifier deemed useful!\n",
    "\n",
    "   \n",
    "])"
   ]
  },
  {
   "cell_type": "code",
   "execution_count": null,
   "metadata": {
    "collapsed": true
   },
   "outputs": [],
   "source": []
  },
  {
   "cell_type": "code",
   "execution_count": null,
   "metadata": {
    "collapsed": true
   },
   "outputs": [],
   "source": []
  },
  {
   "cell_type": "code",
   "execution_count": null,
   "metadata": {
    "collapsed": true
   },
   "outputs": [],
   "source": []
  },
  {
   "cell_type": "code",
   "execution_count": null,
   "metadata": {
    "collapsed": true
   },
   "outputs": [],
   "source": []
  },
  {
   "cell_type": "code",
   "execution_count": 1,
   "metadata": {
    "collapsed": true
   },
   "outputs": [],
   "source": [
    "### Handpicked features custom scikit learn extractor/Transformer \n",
    "\n",
    "#### length of text / number of sentences / existance of specific strings and position"
   ]
  },
  {
   "cell_type": "code",
   "execution_count": null,
   "metadata": {
    "collapsed": true
   },
   "outputs": [],
   "source": []
  },
  {
   "cell_type": "code",
   "execution_count": null,
   "metadata": {
    "collapsed": true
   },
   "outputs": [],
   "source": []
  },
  {
   "cell_type": "code",
   "execution_count": 8,
   "metadata": {
    "collapsed": true
   },
   "outputs": [],
   "source": [
    "class TextStats(BaseEstimator, TransformerMixin):\n",
    "    \"\"\"Extract features from each zoopla csv row for DictVectorizer\"\"\"\n",
    "\n",
    "    def fit(self, x, y=None):\n",
    "        return self\n",
    "\n",
    "    def transform(self, zooplatext):\n",
    "        return [{'length': len(text),\n",
    "                 'num_sentences': text.count('.'),\n",
    "                 'caravanindex':find_str(text,\"caravan\"),\n",
    "                 'parkhomeindex':find_str(text,\"park home\"),\n",
    "                 'bedroomparkhomeindex':find_str(text,\"bedroom park home\"),\n",
    "                 'apartmentindex':find_str(text,\"apartment\"),\n",
    "                 'flatindex':find_str(text,\"flat\"),\n",
    "                 'holidayindex':find_str(text,\"holiday\"),\n",
    "                 'challetindex':find_str(text,\"challet\"),\n",
    "                 'statichomeindex':find_str(text,\"static home\"),\n",
    "                 'staticcaravanindex':find_str(text,\"static caravan\"),\n",
    "                 'mobilehomeindex':find_str(text,\"mobile home\"),\n",
    "                 'parklodgeindex':find_str(text,\"park lodge\"),\n",
    "                 'holidayindex':find_str(text,\"holiday\"),\n",
    "                 'holidayvillageindex':find_str(text,\"holiday village\")\n",
    "                }\n",
    "                for text in zooplatext]"
   ]
  },
  {
   "cell_type": "code",
   "execution_count": null,
   "metadata": {
    "collapsed": true
   },
   "outputs": [],
   "source": []
  },
  {
   "cell_type": "code",
   "execution_count": 10,
   "metadata": {
    "collapsed": true
   },
   "outputs": [],
   "source": [
    "textstats = Pipeline([\n",
    "             \n",
    "                ('handpickedfeatures', TextStats()),  # returns a list of dicts\n",
    "                ('vect', DictVectorizer()),  # list of dicts -> feature matrix\n",
    "                ('classifier', LogisticRegression())     # or any other classifier deemed useful!\n",
    "    \n",
    "])"
   ]
  },
  {
   "cell_type": "code",
   "execution_count": null,
   "metadata": {
    "collapsed": true
   },
   "outputs": [],
   "source": []
  },
  {
   "cell_type": "code",
   "execution_count": null,
   "metadata": {
    "collapsed": true
   },
   "outputs": [],
   "source": [
    "\n",
    "# TODO: explore\n",
    "# different learning rate schedules and momentum parameters\n",
    "params = [{'solver': 'sgd', 'learning_rate': 'constant', 'momentum': 0,\n",
    "           'learning_rate_init': 0.2},\n",
    "          {'solver': 'sgd', 'learning_rate': 'constant', 'momentum': .9,\n",
    "           'nesterovs_momentum': False, 'learning_rate_init': 0.2},\n",
    "          {'solver': 'sgd', 'learning_rate': 'constant', 'momentum': .9,\n",
    "           'nesterovs_momentum': True, 'learning_rate_init': 0.2},\n",
    "          {'solver': 'sgd', 'learning_rate': 'invscaling', 'momentum': 0,\n",
    "           'learning_rate_init': 0.2},\n",
    "          {'solver': 'sgd', 'learning_rate': 'invscaling', 'momentum': .9,\n",
    "           'nesterovs_momentum': True, 'learning_rate_init': 0.2},\n",
    "          {'solver': 'sgd', 'learning_rate': 'invscaling', 'momentum': .9,\n",
    "           'nesterovs_momentum': False, 'learning_rate_init': 0.2},\n",
    "          {'solver': 'adam', 'learning_rate_init': 0.01}]\n",
    "\n",
    "labels = [\"constant learning-rate\", \"constant with momentum\",\n",
    "          \"constant with Nesterov's momentum\",\n",
    "          \"inv-scaling learning-rate\", \"inv-scaling with momentum\",\n",
    "          \"inv-scaling with Nesterov's momentum\", \"adam\"]"
   ]
  },
  {
   "cell_type": "code",
   "execution_count": 11,
   "metadata": {
    "collapsed": true
   },
   "outputs": [],
   "source": [
    "\n",
    "trigram_NN_clf = Pipeline([\n",
    "\n",
    "\n",
    "    ('vectorizer', CountVectorizer(analyzer=\"word\",\n",
    "                                   ngram_range=(1, 3),\n",
    "                                   tokenizer=custom_tokenizer,        \n",
    "                                   max_features=10000)),\n",
    "\n",
    "    ('transformer', TfidfTransformer()),\n",
    "    ('classifier', MLPClassifier(learning_rate_init=0.01,\n",
    "                    hidden_layer_sizes=10, max_iter=100, activation='tanh', verbose=100,\n",
    "                    early_stopping=True, validation_fraction=0.05, alpha=1e-10)) \n",
    "   \n",
    "\n",
    "   \n",
    "])"
   ]
  },
  {
   "cell_type": "code",
   "execution_count": null,
   "metadata": {
    "collapsed": true
   },
   "outputs": [],
   "source": []
  },
  {
   "cell_type": "code",
   "execution_count": 67,
   "metadata": {
    "collapsed": true
   },
   "outputs": [],
   "source": [
    "FeatUnion_clf = Pipeline([\n",
    "\n",
    "\n",
    "    # Use FeatureUnion to combine the features from bag of words model and \n",
    "    # other ad hoc features such as text statistics and position of certain words\n",
    "    \n",
    "    \n",
    "    ('union', FeatureUnion(\n",
    "        \n",
    "        \n",
    "        \n",
    "        transformer_list=[\n",
    "\n",
    "           \n",
    "            # \n",
    "            # Pipeline for standard bag-of-words model for body\n",
    "            #\n",
    "            \n",
    "            ('text_bow_tfidf', Pipeline([\n",
    "            ('vectorizer', CountVectorizer(analyzer=\"word\",\n",
    "                                   ngram_range=(1, 3),\n",
    "                                   tokenizer=custom_tokenizer,         \n",
    "                                   max_features=10000)),\n",
    "            ('transformer', TfidfTransformer()),  # tfidf weighting on Document/Text Matrix\n",
    "            #('best', TruncatedSVD(n_components=200)),  # if we need dimensionality reduction     \n",
    "           \n",
    "            ])),\n",
    "\n",
    "            \n",
    "            #\n",
    "            # Pipeline for pulling ad hoc features from text\n",
    "            #\n",
    "            \n",
    "            ('text_stats_features', Pipeline([\n",
    "                ('handpickedfeatures', TextStats()),  # returns a list of dicts\n",
    "                ('vect', DictVectorizer()),  # list of dicts -> feature matrix\n",
    "            ])),\n",
    "\n",
    "        ],\n",
    "\n",
    "        # weight components in FeatureUnion\n",
    "        transformer_weights={\n",
    "           \n",
    "            'text_bow_tfidf': 0.8,\n",
    "            'text_stats_features': 0.5,\n",
    "                             },\n",
    "                                               )),\n",
    "\n",
    "    \n",
    "    \n",
    "    ('classifier', LogisticRegression())     # or any other classifier deemed useful!\n",
    "    \n",
    "    # Use a SVC classifier on the combined features\n",
    "    #('svc', SVC(kernel='linear')),\n",
    "])\n",
    "\n",
    "\n"
   ]
  },
  {
   "cell_type": "code",
   "execution_count": null,
   "metadata": {
    "collapsed": true
   },
   "outputs": [],
   "source": []
  },
  {
   "cell_type": "code",
   "execution_count": null,
   "metadata": {
    "collapsed": true
   },
   "outputs": [],
   "source": []
  },
  {
   "cell_type": "code",
   "execution_count": null,
   "metadata": {
    "collapsed": true
   },
   "outputs": [],
   "source": []
  },
  {
   "cell_type": "code",
   "execution_count": 5,
   "metadata": {
    "collapsed": true
   },
   "outputs": [],
   "source": [
    "def truefalse_to_binary(input):\n",
    "\n",
    "  \n",
    "\n",
    "    if (input == 'True') or (input == 'T') or (input == 'TRUE'):\n",
    "        output = 1\n",
    "    else:\n",
    "        output = 0\n",
    "\n",
    "\n",
    "    return pd.Series(dict(output=output))\n"
   ]
  },
  {
   "cell_type": "code",
   "execution_count": null,
   "metadata": {
    "collapsed": true
   },
   "outputs": [],
   "source": []
  },
  {
   "cell_type": "code",
   "execution_count": 12,
   "metadata": {
    "collapsed": true
   },
   "outputs": [],
   "source": [
    "\n",
    "\n",
    "#load your dataframe here : expecting a text column and a label column.. change vars \n",
    "\n",
    "\n",
    "df=pd.read_csv('allproperties.csv',encoding='latin1')"
   ]
  },
  {
   "cell_type": "code",
   "execution_count": null,
   "metadata": {
    "collapsed": true
   },
   "outputs": [],
   "source": []
  },
  {
   "cell_type": "code",
   "execution_count": 258,
   "metadata": {
    "collapsed": true
   },
   "outputs": [],
   "source": []
  },
  {
   "cell_type": "code",
   "execution_count": null,
   "metadata": {
    "collapsed": true
   },
   "outputs": [],
   "source": []
  },
  {
   "cell_type": "code",
   "execution_count": 10,
   "metadata": {},
   "outputs": [
    {
     "data": {
      "text/plain": [
       "(1334, 4)"
      ]
     },
     "execution_count": 10,
     "metadata": {},
     "output_type": "execute_result"
    }
   ],
   "source": [
    "df.shape"
   ]
  },
  {
   "cell_type": "code",
   "execution_count": 11,
   "metadata": {},
   "outputs": [
    {
     "data": {
      "text/plain": [
       "(685, 4)"
      ]
     },
     "execution_count": 11,
     "metadata": {},
     "output_type": "execute_result"
    }
   ],
   "source": [
    "df.query(\"label == 1\").shape"
   ]
  },
  {
   "cell_type": "code",
   "execution_count": 12,
   "metadata": {},
   "outputs": [
    {
     "data": {
      "text/plain": [
       "(649, 4)"
      ]
     },
     "execution_count": 12,
     "metadata": {},
     "output_type": "execute_result"
    }
   ],
   "source": [
    "df.query(\"label == 0\").shape"
   ]
  },
  {
   "cell_type": "code",
   "execution_count": null,
   "metadata": {
    "collapsed": true
   },
   "outputs": [],
   "source": []
  },
  {
   "cell_type": "code",
   "execution_count": null,
   "metadata": {
    "collapsed": true
   },
   "outputs": [],
   "source": []
  },
  {
   "cell_type": "code",
   "execution_count": 13,
   "metadata": {},
   "outputs": [
    {
     "data": {
      "text/html": [
       "<div>\n",
       "<style>\n",
       "    .dataframe thead tr:only-child th {\n",
       "        text-align: right;\n",
       "    }\n",
       "\n",
       "    .dataframe thead th {\n",
       "        text-align: left;\n",
       "    }\n",
       "\n",
       "    .dataframe tbody tr th {\n",
       "        vertical-align: top;\n",
       "    }\n",
       "</style>\n",
       "<table border=\"1\" class=\"dataframe\">\n",
       "  <thead>\n",
       "    <tr style=\"text-align: right;\">\n",
       "      <th></th>\n",
       "      <th>Unnamed: 0</th>\n",
       "      <th>label</th>\n",
       "      <th>holiday</th>\n",
       "      <th>text</th>\n",
       "    </tr>\n",
       "  </thead>\n",
       "  <tbody>\n",
       "    <tr>\n",
       "      <th>0</th>\n",
       "      <td>183450</td>\n",
       "      <td>0</td>\n",
       "      <td>NaN</td>\n",
       "      <td>ground floor lounge 584m192x340m112 well propo...</td>\n",
       "    </tr>\n",
       "    <tr>\n",
       "      <th>1</th>\n",
       "      <td>130340</td>\n",
       "      <td>0</td>\n",
       "      <td>NaN</td>\n",
       "      <td>stunning 3 bedroom semi detached property  si...</td>\n",
       "    </tr>\n",
       "    <tr>\n",
       "      <th>2</th>\n",
       "      <td>69085</td>\n",
       "      <td>0</td>\n",
       "      <td>NaN</td>\n",
       "      <td>tiger lettings pleased market rent large 5 bed...</td>\n",
       "    </tr>\n",
       "    <tr>\n",
       "      <th>3</th>\n",
       "      <td>88547</td>\n",
       "      <td>0</td>\n",
       "      <td>NaN</td>\n",
       "      <td>available 4th december unfurnished excellent l...</td>\n",
       "    </tr>\n",
       "    <tr>\n",
       "      <th>4</th>\n",
       "      <td>111176</td>\n",
       "      <td>0</td>\n",
       "      <td>NaN</td>\n",
       "      <td>superbly presented spacious grade ii listed 3 ...</td>\n",
       "    </tr>\n",
       "  </tbody>\n",
       "</table>\n",
       "</div>"
      ],
      "text/plain": [
       "   Unnamed: 0  label holiday  \\\n",
       "0      183450      0     NaN   \n",
       "1      130340      0     NaN   \n",
       "2       69085      0     NaN   \n",
       "3       88547      0     NaN   \n",
       "4      111176      0     NaN   \n",
       "\n",
       "                                                text  \n",
       "0  ground floor lounge 584m192x340m112 well propo...  \n",
       "1   stunning 3 bedroom semi detached property  si...  \n",
       "2  tiger lettings pleased market rent large 5 bed...  \n",
       "3  available 4th december unfurnished excellent l...  \n",
       "4  superbly presented spacious grade ii listed 3 ...  "
      ]
     },
     "execution_count": 13,
     "metadata": {},
     "output_type": "execute_result"
    }
   ],
   "source": [
    "df.head()"
   ]
  },
  {
   "cell_type": "code",
   "execution_count": null,
   "metadata": {
    "collapsed": true
   },
   "outputs": [],
   "source": []
  },
  {
   "cell_type": "code",
   "execution_count": null,
   "metadata": {
    "collapsed": true
   },
   "outputs": [],
   "source": []
  },
  {
   "cell_type": "code",
   "execution_count": null,
   "metadata": {
    "collapsed": true
   },
   "outputs": [],
   "source": []
  },
  {
   "cell_type": "code",
   "execution_count": 10,
   "metadata": {
    "collapsed": true
   },
   "outputs": [],
   "source": [
    "#run only if needed\n",
    "\n",
    "\n",
    "#df['text'] = df['description_lower'].apply(lambda x:  getstopwordsout(x)    )\n",
    "#df['label'] = df['static'].apply(lambda x:truefalse_to_binary(x))"
   ]
  },
  {
   "cell_type": "code",
   "execution_count": null,
   "metadata": {
    "collapsed": true
   },
   "outputs": [],
   "source": []
  },
  {
   "cell_type": "code",
   "execution_count": 19,
   "metadata": {
    "collapsed": true
   },
   "outputs": [],
   "source": [
    "X=df['text'].values.astype('U')\n",
    "y=df['label'].values\n"
   ]
  },
  {
   "cell_type": "code",
   "execution_count": null,
   "metadata": {
    "collapsed": true
   },
   "outputs": [],
   "source": []
  },
  {
   "cell_type": "code",
   "execution_count": 20,
   "metadata": {
    "collapsed": true
   },
   "outputs": [],
   "source": [
    "\n",
    "#split between training set and test set\n",
    "\n",
    "\n",
    "train_X, test_X, train_y, test_y = train_test_split(X,y, test_size=0.2)"
   ]
  },
  {
   "cell_type": "code",
   "execution_count": null,
   "metadata": {
    "collapsed": true
   },
   "outputs": [],
   "source": []
  },
  {
   "cell_type": "code",
   "execution_count": 25,
   "metadata": {},
   "outputs": [
    {
     "data": {
      "text/plain": [
       "Pipeline(memory=None,\n",
       "     steps=[('handpickedfeatures', TextStats()), ('vect', DictVectorizer(dtype=<class 'numpy.float64'>, separator='=', sort=True,\n",
       "        sparse=True)), ('classifier', LogisticRegression(C=1.0, class_weight=None, dual=False, fit_intercept=True,\n",
       "          intercept_scaling=1, max_iter=100, multi_class='ovr', n_jobs=1,\n",
       "          penalty='l2', random_state=None, solver='liblinear', tol=0.0001,\n",
       "          verbose=0, warm_start=False))])"
      ]
     },
     "execution_count": 25,
     "metadata": {},
     "output_type": "execute_result"
    }
   ],
   "source": [
    "textstats.fit(train_X,train_y)"
   ]
  },
  {
   "cell_type": "code",
   "execution_count": null,
   "metadata": {
    "collapsed": true
   },
   "outputs": [],
   "source": []
  },
  {
   "cell_type": "code",
   "execution_count": null,
   "metadata": {
    "collapsed": true
   },
   "outputs": [],
   "source": [
    "### cross-validation scores for the handpicked-features classifier."
   ]
  },
  {
   "cell_type": "code",
   "execution_count": 26,
   "metadata": {},
   "outputs": [
    {
     "name": "stdout",
     "output_type": "stream",
     "text": [
      "------------------- pipeline -----------------------\n",
      "vectorizer:  DictVectorizer(dtype=<class 'numpy.float64'>, separator='=', sort=True,\n",
      "        sparse=True)\n",
      "classifier:  LogisticRegression(C=1.0, class_weight=None, dual=False, fit_intercept=True,\n",
      "          intercept_scaling=1, max_iter=100, multi_class='ovr', n_jobs=1,\n",
      "          penalty='l2', random_state=None, solver='liblinear', tol=0.0001,\n",
      "          verbose=0, warm_start=False)\n",
      "[ 0.97003745  0.98501873  0.92509363  0.97003745  0.81203008]\n",
      "0.932443468221\n"
     ]
    }
   ],
   "source": [
    "\n",
    "scores = cross_val_score(textstats, X, y, cv=5)\n",
    "\n",
    "print(\"------------------- pipeline -----------------------\")\n",
    "print(\"vectorizer: \",textstats.named_steps['vect'])\n",
    "\n",
    "print(\"classifier: \",textstats.named_steps['classifier'])\n",
    "\n",
    "\n",
    "\n",
    "print (scores)\n",
    "print (np.mean(scores))\n",
    "\n",
    "\n"
   ]
  },
  {
   "cell_type": "code",
   "execution_count": null,
   "metadata": {
    "collapsed": true
   },
   "outputs": [],
   "source": []
  },
  {
   "cell_type": "code",
   "execution_count": 28,
   "metadata": {},
   "outputs": [
    {
     "name": "stdout",
     "output_type": "stream",
     "text": [
      "Handpicked features clasifier Log-loss = 0.19140\n"
     ]
    }
   ],
   "source": [
    "\n",
    "Y_pred_prob = textstats.predict_proba(test_X)[:,1]\n",
    "Y_pred = textstats.predict(test_X)\n",
    "\n",
    "\n",
    "print('Handpicked features clasifier Log-loss = {:.5f}'.format(log_loss(test_y, Y_pred_prob,eps=1e-15)))"
   ]
  },
  {
   "cell_type": "code",
   "execution_count": null,
   "metadata": {
    "collapsed": true
   },
   "outputs": [],
   "source": [
    "\n",
    "HPoutputdataframe = pd.DataFrame({'test_X':test_X,'Y_pred':Y_pred,'test_y':test_y,'Y_pred_prob':Y_pred_prob})\n",
    "sout = HPoutputdataframe.sort_values(['Y_pred_prob', 'Y_pred'], ascending=[False, False])"
   ]
  },
  {
   "cell_type": "code",
   "execution_count": 56,
   "metadata": {
    "collapsed": true
   },
   "outputs": [],
   "source": [
    "sout.to_html(\"HPCLFtest.htm\")"
   ]
  },
  {
   "cell_type": "code",
   "execution_count": null,
   "metadata": {
    "collapsed": true
   },
   "outputs": [],
   "source": []
  },
  {
   "cell_type": "code",
   "execution_count": null,
   "metadata": {
    "collapsed": true
   },
   "outputs": [],
   "source": [
    "### cross-validation scores for the neural network classifier."
   ]
  },
  {
   "cell_type": "code",
   "execution_count": 29,
   "metadata": {},
   "outputs": [
    {
     "name": "stdout",
     "output_type": "stream",
     "text": [
      "Iteration 1, loss = 0.57224770\n",
      "Validation score: 0.962963\n",
      "Iteration 2, loss = 0.28988081\n",
      "Validation score: 0.962963\n",
      "Iteration 3, loss = 0.18307868\n",
      "Validation score: 0.981481\n",
      "Iteration 4, loss = 0.13079902\n",
      "Validation score: 0.925926\n",
      "Iteration 5, loss = 0.10779070\n",
      "Validation score: 0.925926\n",
      "Iteration 6, loss = 0.08752008\n",
      "Validation score: 0.925926\n",
      "Validation score did not improve more than tol=0.000100 for two consecutive epochs. Stopping.\n",
      "Pipeline(memory=None,\n",
      "     steps=[('vectorizer', CountVectorizer(analyzer='word', binary=False, decode_error='strict',\n",
      "        dtype=<class 'numpy.int64'>, encoding='utf-8', input='content',\n",
      "        lowercase=True, max_df=1.0, max_features=10000, min_df=1,\n",
      "        ngram_range=(1, 3), preprocessor=None, stop_words=None,\n",
      "      ...e=True, solver='adam', tol=0.0001, validation_fraction=0.05,\n",
      "       verbose=100, warm_start=False))])\n"
     ]
    }
   ],
   "source": [
    "\n",
    "print(trigram_NN_clf.fit(train_X, train_y))"
   ]
  },
  {
   "cell_type": "code",
   "execution_count": 30,
   "metadata": {},
   "outputs": [
    {
     "name": "stdout",
     "output_type": "stream",
     "text": [
      "Iteration 1, loss = 0.55500240\n",
      "Validation score: 0.962963\n",
      "Iteration 2, loss = 0.29393761\n",
      "Validation score: 0.962963\n",
      "Iteration 3, loss = 0.18872145\n",
      "Validation score: 0.962963\n",
      "Iteration 4, loss = 0.13680248\n",
      "Validation score: 0.925926\n",
      "Validation score did not improve more than tol=0.000100 for two consecutive epochs. Stopping.\n",
      "Iteration 1, loss = 0.53832840\n",
      "Validation score: 0.925926\n",
      "Iteration 2, loss = 0.26511154\n",
      "Validation score: 0.925926\n",
      "Iteration 3, loss = 0.17659330\n",
      "Validation score: 0.925926\n",
      "Iteration 4, loss = 0.13076960\n",
      "Validation score: 0.907407\n",
      "Validation score did not improve more than tol=0.000100 for two consecutive epochs. Stopping.\n",
      "Iteration 1, loss = 0.54526612\n",
      "Validation score: 0.907407\n",
      "Iteration 2, loss = 0.26030103\n",
      "Validation score: 0.907407\n",
      "Iteration 3, loss = 0.14985117\n",
      "Validation score: 0.925926\n",
      "Iteration 4, loss = 0.09976893\n",
      "Validation score: 0.944444\n",
      "Iteration 5, loss = 0.07588047\n",
      "Validation score: 0.925926\n",
      "Iteration 6, loss = 0.06141694\n",
      "Validation score: 0.944444\n",
      "Iteration 7, loss = 0.05337508\n",
      "Validation score: 0.944444\n",
      "Validation score did not improve more than tol=0.000100 for two consecutive epochs. Stopping.\n",
      "Iteration 1, loss = 0.58690704\n",
      "Validation score: 0.925926\n",
      "Iteration 2, loss = 0.32184352\n",
      "Validation score: 0.925926\n",
      "Iteration 3, loss = 0.21533038\n",
      "Validation score: 0.944444\n",
      "Iteration 4, loss = 0.16211544\n",
      "Validation score: 0.925926\n",
      "Iteration 5, loss = 0.13271583\n",
      "Validation score: 0.944444\n",
      "Iteration 6, loss = 0.11302443\n",
      "Validation score: 0.944444\n",
      "Validation score did not improve more than tol=0.000100 for two consecutive epochs. Stopping.\n",
      "Iteration 1, loss = 0.56213776\n",
      "Validation score: 0.925926\n",
      "Iteration 2, loss = 0.28827557\n",
      "Validation score: 0.925926\n",
      "Iteration 3, loss = 0.17262982\n",
      "Validation score: 0.944444\n",
      "Iteration 4, loss = 0.10908326\n",
      "Validation score: 0.944444\n",
      "Iteration 5, loss = 0.07266170\n",
      "Validation score: 0.962963\n",
      "Iteration 6, loss = 0.04992666\n",
      "Validation score: 0.962963\n",
      "Iteration 7, loss = 0.03493120\n",
      "Validation score: 0.962963\n",
      "Iteration 8, loss = 0.02539799\n",
      "Validation score: 0.981481\n",
      "Iteration 9, loss = 0.01871741\n",
      "Validation score: 0.962963\n",
      "Iteration 10, loss = 0.01447285\n",
      "Validation score: 0.981481\n",
      "Iteration 11, loss = 0.01189889\n",
      "Validation score: 1.000000\n",
      "Iteration 12, loss = 0.01052680\n",
      "Validation score: 0.981481\n",
      "Iteration 13, loss = 0.01018595\n",
      "Validation score: 0.981481\n",
      "Iteration 14, loss = 0.00869812\n",
      "Validation score: 1.000000\n",
      "Validation score did not improve more than tol=0.000100 for two consecutive epochs. Stopping.\n"
     ]
    }
   ],
   "source": [
    "\n",
    "scores = cross_val_score(trigram_NN_clf, X, y, cv=5)"
   ]
  },
  {
   "cell_type": "code",
   "execution_count": null,
   "metadata": {
    "collapsed": true
   },
   "outputs": [],
   "source": []
  },
  {
   "cell_type": "code",
   "execution_count": 31,
   "metadata": {},
   "outputs": [
    {
     "name": "stdout",
     "output_type": "stream",
     "text": [
      "[ 0.92509363  0.95131086  0.86142322  0.97752809  0.80827068]\n",
      "0.904725296387\n"
     ]
    }
   ],
   "source": [
    "print (scores)\n",
    "print (np.mean(scores))"
   ]
  },
  {
   "cell_type": "code",
   "execution_count": null,
   "metadata": {
    "collapsed": true
   },
   "outputs": [],
   "source": []
  },
  {
   "cell_type": "code",
   "execution_count": 32,
   "metadata": {},
   "outputs": [
    {
     "name": "stdout",
     "output_type": "stream",
     "text": [
      "NN perceptron classifier  Log-loss = 0.19686\n"
     ]
    }
   ],
   "source": [
    "\n",
    "Y_pred_prob = trigram_NN_clf.predict_proba(test_X)[:,1]\n",
    "Y_pred = trigram_NN_clf.predict(test_X)\n",
    "\n",
    "print('NN perceptron classifier  Log-loss = {:.5f}'.format(log_loss(test_y, Y_pred_prob)))"
   ]
  },
  {
   "cell_type": "code",
   "execution_count": 52,
   "metadata": {
    "collapsed": true
   },
   "outputs": [],
   "source": [
    "#output text / prediction / prediction probability in a dataframe!\n",
    "\n",
    "NNoutputdataframe = pd.DataFrame({'test_X':test_X,'Y_pred':Y_pred,'test_y':test_y,'Y_pred_prob':Y_pred_prob})\n",
    "sout = NNoutputdataframe.sort_values(['Y_pred_prob', 'Y_pred'], ascending=[False, False])"
   ]
  },
  {
   "cell_type": "code",
   "execution_count": 35,
   "metadata": {
    "collapsed": true
   },
   "outputs": [],
   "source": [
    "sout.to_html(\"NNCLFtest.htm\")"
   ]
  },
  {
   "cell_type": "code",
   "execution_count": null,
   "metadata": {
    "collapsed": true
   },
   "outputs": [],
   "source": []
  },
  {
   "cell_type": "code",
   "execution_count": 100,
   "metadata": {},
   "outputs": [
    {
     "data": {
      "text/plain": [
       "[0.0063018404993348638,\n",
       " 0.0090764271455838728,\n",
       " 0.010442629017155826,\n",
       " 0.011378675241197702,\n",
       " 0.015421591340840675,\n",
       " 0.017194663175940643,\n",
       " 0.019341167679229582,\n",
       " 0.023348401133910811,\n",
       " 0.023483187356057918,\n",
       " 0.025257542657067363,\n",
       " 0.025993975890608218,\n",
       " 0.026286784893534903,\n",
       " 0.027012554921235669,\n",
       " 0.028063395528114304,\n",
       " 0.028617194528606161,\n",
       " 0.028747492518279169,\n",
       " 0.030120794767501045,\n",
       " 0.031109605568206921,\n",
       " 0.031759631685353069,\n",
       " 0.032012152700287962,\n",
       " 0.032763961296357079,\n",
       " 0.035442401648850326,\n",
       " 0.036004126576120468,\n",
       " 0.036827440775213612,\n",
       " 0.037449213110088503,\n",
       " 0.03967047226886955,\n",
       " 0.040258395069557459,\n",
       " 0.040412073465360278,\n",
       " 0.040803910487883253,\n",
       " 0.042271557667305906,\n",
       " 0.043712365944735945,\n",
       " 0.045819526890367335,\n",
       " 0.046440038745218695,\n",
       " 0.047183840388113213,\n",
       " 0.047443985405936188,\n",
       " 0.049064564746193244,\n",
       " 0.049195655369071147,\n",
       " 0.050895784542195371,\n",
       " 0.051650362242653826,\n",
       " 0.051688480778383415,\n",
       " 0.052370785453389954,\n",
       " 0.055077727192155493,\n",
       " 0.056955358403200006,\n",
       " 0.05850502629642064,\n",
       " 0.059195744328373351,\n",
       " 0.059803891063954367,\n",
       " 0.060212356918936227,\n",
       " 0.060292163427783631,\n",
       " 0.061768139513539967,\n",
       " 0.061788994189674436,\n",
       " 0.062627423547172115,\n",
       " 0.062634100537346776,\n",
       " 0.064243528725532059,\n",
       " 0.065053823185903151,\n",
       " 0.066376552286564444,\n",
       " 0.066399570637045977,\n",
       " 0.067406374117681911,\n",
       " 0.06762098124147857,\n",
       " 0.068274512032301254,\n",
       " 0.069404430545681656,\n",
       " 0.069688672622512438,\n",
       " 0.070483088890318929,\n",
       " 0.071598612265598147,\n",
       " 0.072956363381952313,\n",
       " 0.075192338951111826,\n",
       " 0.076470657645805462,\n",
       " 0.08002902007385089,\n",
       " 0.081776255455221283,\n",
       " 0.083232223204879302,\n",
       " 0.083468391618719731,\n",
       " 0.084146658329832938,\n",
       " 0.085550999405324291,\n",
       " 0.087477010947966477,\n",
       " 0.089809617071285389,\n",
       " 0.09012439069401175,\n",
       " 0.091251107630186401,\n",
       " 0.093033935052025354,\n",
       " 0.09503214037693819,\n",
       " 0.10201745440347713,\n",
       " 0.10308127142858341,\n",
       " 0.10442131122258315,\n",
       " 0.10619528896022261,\n",
       " 0.1068872024162917,\n",
       " 0.11113434250859444,\n",
       " 0.11114303799951687,\n",
       " 0.11591803881456514,\n",
       " 0.12001930201198328,\n",
       " 0.12068236833243715,\n",
       " 0.12440948488358927,\n",
       " 0.1283827839859126,\n",
       " 0.12839705184423383,\n",
       " 0.12990250137604889,\n",
       " 0.13148875792717518,\n",
       " 0.13242108031027008,\n",
       " 0.13951671148844397,\n",
       " 0.14061817368010299,\n",
       " 0.14121310239676335,\n",
       " 0.14518555821047138,\n",
       " 0.15665747006252226,\n",
       " 0.15760084479122369,\n",
       " 0.16358014105072066,\n",
       " 0.17034305176754586,\n",
       " 0.18334557987909006,\n",
       " 0.18527082107765816,\n",
       " 0.18866166550459493,\n",
       " 0.20022496123440103,\n",
       " 0.20708051102212571,\n",
       " 0.21123380359277183,\n",
       " 0.21519472674233869,\n",
       " 0.22913946032319912,\n",
       " 0.23616545421521726,\n",
       " 0.23627768638155064,\n",
       " 0.2419152686778448,\n",
       " 0.24729174193098977,\n",
       " 0.26466840588176527,\n",
       " 0.2748061345318325,\n",
       " 0.2819734284207186,\n",
       " 0.28723311414616753,\n",
       " 0.28848922125244192,\n",
       " 0.30239782032648788,\n",
       " 0.32732446009583049,\n",
       " 0.34133257195261107,\n",
       " 0.35960567405894778,\n",
       " 0.36428739156665157,\n",
       " 0.44107189101263117,\n",
       " 0.44131667215452947,\n",
       " 0.47766564575229636,\n",
       " 0.51572127509436172,\n",
       " 0.54971729336924058,\n",
       " 0.56702166825681821,\n",
       " 0.58803696999180022,\n",
       " 0.59384114703301849,\n",
       " 0.59992637786252756,\n",
       " 0.62634396489350141,\n",
       " 0.66491876824570229,\n",
       " 0.67858972372451765,\n",
       " 0.68015831038189123,\n",
       " 0.68956942598068172,\n",
       " 0.72210066342209001,\n",
       " 0.72528512475905182,\n",
       " 0.72825401798024658,\n",
       " 0.72908151607927962,\n",
       " 0.72908151607927962,\n",
       " 0.73329732670846548,\n",
       " 0.74881450445175557,\n",
       " 0.75654852932951078,\n",
       " 0.77266432830840703,\n",
       " 0.77740007785426779,\n",
       " 0.77751125471127547,\n",
       " 0.77797354722374767,\n",
       " 0.79293256099747966,\n",
       " 0.79348805627848518,\n",
       " 0.79722271135693223,\n",
       " 0.80040007653041845,\n",
       " 0.80132816864996648,\n",
       " 0.80420081774789376,\n",
       " 0.80613043698571718,\n",
       " 0.80869956817638289,\n",
       " 0.81291898123443829,\n",
       " 0.8224602431579443,\n",
       " 0.82336562108923872,\n",
       " 0.8249092300549925,\n",
       " 0.82870216680394404,\n",
       " 0.8333443370739918,\n",
       " 0.83372751390596644,\n",
       " 0.83458894814583662,\n",
       " 0.83954686416017021,\n",
       " 0.83979380308876228,\n",
       " 0.83979380308876228,\n",
       " 0.84289988602288923,\n",
       " 0.84550208172532482,\n",
       " 0.84737503524165281,\n",
       " 0.85772503133469702,\n",
       " 0.86037927781102963,\n",
       " 0.86372121872414398,\n",
       " 0.86517356907051468,\n",
       " 0.87216455238835722,\n",
       " 0.87228121938427483,\n",
       " 0.87228121938427483,\n",
       " 0.8728986924077039,\n",
       " 0.87912565538241783,\n",
       " 0.88218906762649296,\n",
       " 0.88549973518264469,\n",
       " 0.88593815632322148,\n",
       " 0.88734193109444415,\n",
       " 0.88790837130745903,\n",
       " 0.89140213464318363,\n",
       " 0.89339356133795644,\n",
       " 0.89528071497014383,\n",
       " 0.89669155958861113,\n",
       " 0.90032675964107178,\n",
       " 0.90112771814841519,\n",
       " 0.9018662318350249,\n",
       " 0.90339212330467356,\n",
       " 0.90387021563020364,\n",
       " 0.90849699916948889,\n",
       " 0.90925349080141427,\n",
       " 0.9175687191234474,\n",
       " 0.92008871160610184,\n",
       " 0.92008871160610184,\n",
       " 0.92008871160610184,\n",
       " 0.92008871160610184,\n",
       " 0.92038758936803344,\n",
       " 0.92978807348492887,\n",
       " 0.92979849467883702,\n",
       " 0.93284424439060787,\n",
       " 0.93284424439060787,\n",
       " 0.9358507693889897,\n",
       " 0.93710716243545111,\n",
       " 0.93932880390128393,\n",
       " 0.93944146889175184,\n",
       " 0.94418052750141734,\n",
       " 0.94647003394687135,\n",
       " 0.94654227272653613,\n",
       " 0.94870426998148472,\n",
       " 0.95140428014927447,\n",
       " 0.95238208508915745,\n",
       " 0.95842190588858134,\n",
       " 0.96004968470844176,\n",
       " 0.9620259398555927,\n",
       " 0.96611303938398541,\n",
       " 0.96627527537358149,\n",
       " 0.96627527537358149,\n",
       " 0.96969510747544208,\n",
       " 0.97093930628248226,\n",
       " 0.97137897270139095,\n",
       " 0.97232807755043549,\n",
       " 0.97301324088606866,\n",
       " 0.97463213667802662,\n",
       " 0.97474898841600344,\n",
       " 0.97555837950930546,\n",
       " 0.97584340384299106,\n",
       " 0.97754568952884691,\n",
       " 0.98279789810216711,\n",
       " 0.98895439161882803,\n",
       " 0.98898500686167978,\n",
       " 0.98898500686167978,\n",
       " 0.98898500686167978,\n",
       " 0.98898500686167978,\n",
       " 0.98898500686167978,\n",
       " 0.98898500686167978,\n",
       " 0.98899804132611968,\n",
       " 0.98902268539921601,\n",
       " 0.98902268539921601,\n",
       " 0.98902268539921601,\n",
       " 0.98902268539921601,\n",
       " 0.98902268539921601,\n",
       " 0.98902268539921601,\n",
       " 0.98902694662612112,\n",
       " 0.98902694662612112,\n",
       " 0.98902694662612112,\n",
       " 0.98902694662612112,\n",
       " 0.98902694662612112,\n",
       " 0.98902694662612112,\n",
       " 0.98903493432429856,\n",
       " 0.98903796911843489,\n",
       " 0.98904749287965599,\n",
       " 0.98904749287965599,\n",
       " 0.98906291300995564,\n",
       " 0.98906291300995564,\n",
       " 0.98906291300995564,\n",
       " 0.98906291300995564,\n",
       " 0.98907295934795503,\n",
       " 0.98907751209787187,\n",
       " 0.98908403485100616,\n",
       " 0.9891103558503771,\n",
       " 0.9891103558503771]"
      ]
     },
     "execution_count": 100,
     "metadata": {},
     "output_type": "execute_result"
    }
   ],
   "source": [
    "sorted(Y_pred_prob)"
   ]
  },
  {
   "cell_type": "code",
   "execution_count": null,
   "metadata": {
    "collapsed": true
   },
   "outputs": [],
   "source": []
  },
  {
   "cell_type": "code",
   "execution_count": 46,
   "metadata": {},
   "outputs": [
    {
     "name": "stdout",
     "output_type": "stream",
     "text": [
      "Pipeline(memory=None,\n",
      "     steps=[('vectorizer', CountVectorizer(analyzer='word', binary=False, decode_error='strict',\n",
      "        dtype=<class 'numpy.int64'>, encoding='utf-8', input='content',\n",
      "        lowercase=True, max_df=1.0, max_features=10000, min_df=1,\n",
      "        ngram_range=(1, 3), preprocessor=None, stop_words=None,\n",
      "      ...ty='l2', random_state=None, solver='liblinear', tol=0.0001,\n",
      "          verbose=0, warm_start=False))])\n"
     ]
    }
   ],
   "source": [
    "print(trigram_LR_clf.fit(train_X, train_y))"
   ]
  },
  {
   "cell_type": "code",
   "execution_count": null,
   "metadata": {
    "collapsed": true
   },
   "outputs": [],
   "source": []
  },
  {
   "cell_type": "code",
   "execution_count": 47,
   "metadata": {},
   "outputs": [
    {
     "name": "stdout",
     "output_type": "stream",
     "text": [
      "0.943820224719\n"
     ]
    }
   ],
   "source": [
    "print(trigram_LR_clf.score(test_X, test_y))"
   ]
  },
  {
   "cell_type": "code",
   "execution_count": null,
   "metadata": {
    "collapsed": true
   },
   "outputs": [],
   "source": []
  },
  {
   "cell_type": "code",
   "execution_count": null,
   "metadata": {
    "collapsed": true
   },
   "outputs": [],
   "source": []
  },
  {
   "cell_type": "code",
   "execution_count": null,
   "metadata": {
    "collapsed": true
   },
   "outputs": [],
   "source": [
    "### cross-validation scores for the Logistic Regression classifier."
   ]
  },
  {
   "cell_type": "code",
   "execution_count": 48,
   "metadata": {},
   "outputs": [
    {
     "name": "stdout",
     "output_type": "stream",
     "text": [
      "------------------- pipeline -----------------------\n",
      "vectorizer:  CountVectorizer(analyzer='word', binary=False, decode_error='strict',\n",
      "        dtype=<class 'numpy.int64'>, encoding='utf-8', input='content',\n",
      "        lowercase=True, max_df=1.0, max_features=10000, min_df=1,\n",
      "        ngram_range=(1, 3), preprocessor=None, stop_words=None,\n",
      "        strip_accents=None, token_pattern='(?u)\\\\b\\\\w\\\\w+\\\\b',\n",
      "        tokenizer=<function custom_tokenizer at 0x7f1015c5a378>,\n",
      "        vocabulary=None)\n",
      "classifier:  LogisticRegression(C=1.0, class_weight=None, dual=False, fit_intercept=True,\n",
      "          intercept_scaling=1, max_iter=100, multi_class='ovr', n_jobs=1,\n",
      "          penalty='l2', random_state=None, solver='liblinear', tol=0.0001,\n",
      "          verbose=0, warm_start=False)\n",
      "[ 0.94007491  0.95131086  0.8576779   0.98501873  0.86090226]\n",
      "0.918996930529\n"
     ]
    }
   ],
   "source": [
    "# 5-fold crossvalidation\n",
    "\n",
    "scores = cross_val_score(trigram_LR_clf, X, y, cv=5)\n",
    "\n",
    "print(\"------------------- pipeline -----------------------\")\n",
    "print(\"vectorizer: \",trigram_LR_clf.named_steps['vectorizer'])\n",
    "#print(\"transformer: \",bigram_clf.named_steps['transformer'])\n",
    "print(\"classifier: \",trigram_LR_clf.named_steps['classifier'])\n",
    "print (scores)\n",
    "print (np.mean(scores))"
   ]
  },
  {
   "cell_type": "code",
   "execution_count": 53,
   "metadata": {},
   "outputs": [
    {
     "name": "stdout",
     "output_type": "stream",
     "text": [
      "logistic regression classifier  Log-loss = 0.24664\n"
     ]
    }
   ],
   "source": [
    "\n",
    "Y_pred_prob = trigram_LR_clf.predict_proba(test_X)[:,1]\n",
    "Y_pred = trigram_LR_clf.predict(test_X)\n",
    "\n",
    "print('logistic regression classifier  Log-loss = {:.5f}'.format(log_loss(test_y, Y_pred_prob)))"
   ]
  },
  {
   "cell_type": "code",
   "execution_count": 54,
   "metadata": {
    "collapsed": true
   },
   "outputs": [],
   "source": [
    "\n",
    "LRoutputdataframe = pd.DataFrame({'test_X':test_X,'Y_pred':Y_pred,'test_y':test_y,'Y_pred_prob':Y_pred_prob})\n",
    "sout = LRoutputdataframe.sort_values(['Y_pred_prob', 'Y_pred'], ascending=[False, False])"
   ]
  },
  {
   "cell_type": "code",
   "execution_count": 55,
   "metadata": {
    "collapsed": true
   },
   "outputs": [],
   "source": [
    "sout.to_html(\"LRCLFtest.htm\")"
   ]
  },
  {
   "cell_type": "code",
   "execution_count": null,
   "metadata": {
    "collapsed": true
   },
   "outputs": [],
   "source": []
  },
  {
   "cell_type": "code",
   "execution_count": 50,
   "metadata": {},
   "outputs": [
    {
     "name": "stdout",
     "output_type": "stream",
     "text": [
      "3.7249              park                -2.4611             floor\n",
      "2.9269              home                -1.6384         apartment\n",
      "2.8132         park home                -1.5322             first\n",
      "2.0040              side                -1.3639       first floor\n",
      "1.4611            aspect                -1.3249             house\n",
      "1.2508       window side                -1.2097              rear\n",
      "1.2345           holiday                -1.1647              face\n",
      "1.2020      bedroom park                -1.1185              flat\n",
      "1.1783 bedroom park home                -1.0041             three\n",
      "1.0416 glaze window side                -0.9567         available\n",
      "1.0119       side aspect                -0.9537central heating radiator\n",
      "1.0112      home situate                -0.9166  heating radiator\n",
      "0.9749 park home situate                -0.8985             stair\n",
      "0.9153     aspect double                -0.8808            street\n",
      "0.8899aspect double glaze                -0.8759            access\n"
     ]
    }
   ],
   "source": [
    "\n",
    "\n",
    "print(show_most_informative_features(trigram_LR_clf))"
   ]
  },
  {
   "cell_type": "code",
   "execution_count": null,
   "metadata": {
    "collapsed": true
   },
   "outputs": [],
   "source": []
  },
  {
   "cell_type": "code",
   "execution_count": 31,
   "metadata": {},
   "outputs": [
    {
     "name": "stdout",
     "output_type": "stream",
     "text": [
      "Logistic Regression Classifier Log-loss = 0.24668\n"
     ]
    }
   ],
   "source": [
    "from sklearn.metrics import log_loss\n",
    "\n",
    "\n",
    "Y_pred_prob = trigram_LR_clf.predict_proba(test_X)[:,1]\n",
    "Y_pred = trigram_LR_clf.predict(test_X)\n",
    "\n",
    "print('Logistic Regression Classifier Log-loss = {:.5f}'.format(log_loss(test_y, Y_pred_prob)))\n",
    "\n"
   ]
  },
  {
   "cell_type": "code",
   "execution_count": null,
   "metadata": {
    "collapsed": true
   },
   "outputs": [],
   "source": []
  },
  {
   "cell_type": "code",
   "execution_count": null,
   "metadata": {
    "collapsed": true
   },
   "outputs": [],
   "source": []
  },
  {
   "cell_type": "code",
   "execution_count": null,
   "metadata": {
    "collapsed": true
   },
   "outputs": [],
   "source": []
  },
  {
   "cell_type": "code",
   "execution_count": null,
   "metadata": {
    "collapsed": true
   },
   "outputs": [],
   "source": []
  },
  {
   "cell_type": "code",
   "execution_count": null,
   "metadata": {
    "collapsed": true
   },
   "outputs": [],
   "source": []
  },
  {
   "cell_type": "code",
   "execution_count": null,
   "metadata": {
    "collapsed": true
   },
   "outputs": [],
   "source": [
    "# FEATURE UNION CLASSIFIER"
   ]
  },
  {
   "cell_type": "code",
   "execution_count": 68,
   "metadata": {},
   "outputs": [
    {
     "data": {
      "text/plain": [
       "Pipeline(memory=None,\n",
       "     steps=[('union', FeatureUnion(n_jobs=1,\n",
       "       transformer_list=[('text_bow_tfidf', Pipeline(memory=None,\n",
       "     steps=[('vectorizer', CountVectorizer(analyzer='word', binary=False, decode_error='strict',\n",
       "        dtype=<class 'numpy.int64'>, encoding='utf-8', input='content',\n",
       "        lowercase=True, m...ty='l2', random_state=None, solver='liblinear', tol=0.0001,\n",
       "          verbose=0, warm_start=False))])"
      ]
     },
     "execution_count": 68,
     "metadata": {},
     "output_type": "execute_result"
    }
   ],
   "source": [
    "FeatUnion_clf.fit(train_X,train_y)"
   ]
  },
  {
   "cell_type": "code",
   "execution_count": 69,
   "metadata": {},
   "outputs": [
    {
     "name": "stdout",
     "output_type": "stream",
     "text": [
      "0.958801498127\n"
     ]
    }
   ],
   "source": [
    "print(FeatUnion_clf.score(test_X, test_y))"
   ]
  },
  {
   "cell_type": "code",
   "execution_count": 70,
   "metadata": {},
   "outputs": [
    {
     "name": "stdout",
     "output_type": "stream",
     "text": [
      "-----------------feature union (BOW + ad hoc) pipeline -----------------------\n",
      "[ 0.97003745  0.98501873  0.90636704  0.97003745  0.81203008]\n",
      "0.928698149869\n"
     ]
    }
   ],
   "source": [
    "# 5-fold crossvalidation\n",
    "\n",
    "scores = cross_val_score(FeatUnion_clf, X, y, cv=5)\n",
    "\n",
    "print(\"-----------------feature union (BOW + ad hoc) pipeline -----------------------\")\n",
    "\n",
    "print (scores)\n",
    "print (np.mean(scores))"
   ]
  },
  {
   "cell_type": "code",
   "execution_count": 71,
   "metadata": {},
   "outputs": [
    {
     "name": "stdout",
     "output_type": "stream",
     "text": [
      "Feature Union classifier  Log-loss = 0.18531\n"
     ]
    }
   ],
   "source": [
    "\n",
    "Y_pred_prob = FeatUnion_clf.predict_proba(test_X)[:,1]\n",
    "Y_pred = FeatUnion_clf.predict(test_X)\n",
    "\n",
    "print('Feature Union classifier  Log-loss = {:.5f}'.format(log_loss(test_y, Y_pred_prob)))"
   ]
  },
  {
   "cell_type": "code",
   "execution_count": 72,
   "metadata": {
    "collapsed": true
   },
   "outputs": [],
   "source": [
    "\n",
    "FUoutputdataframe = pd.DataFrame({'test_X':test_X,'Y_pred':Y_pred,'test_y':test_y,'Y_pred_prob':Y_pred_prob})\n",
    "sout = FUoutputdataframe.sort_values(['Y_pred_prob', 'Y_pred'], ascending=[False, False])\n",
    "sout.to_html(\"FU_CLFtest.htm\")"
   ]
  },
  {
   "cell_type": "code",
   "execution_count": null,
   "metadata": {
    "collapsed": true
   },
   "outputs": [],
   "source": []
  },
  {
   "cell_type": "code",
   "execution_count": 65,
   "metadata": {
    "collapsed": true
   },
   "outputs": [],
   "source": [
    "#EVALUATION PHASE\n",
    "\n",
    "# SK Learn classification report and ROC curve for the classifier\n",
    "\n"
   ]
  },
  {
   "cell_type": "code",
   "execution_count": null,
   "metadata": {
    "collapsed": true
   },
   "outputs": [],
   "source": []
  },
  {
   "cell_type": "code",
   "execution_count": 35,
   "metadata": {},
   "outputs": [
    {
     "name": "stderr",
     "output_type": "stream",
     "text": [
      "/home/mamonu/anaconda3/lib/python3.6/site-packages/ggplot/utils.py:81: FutureWarning: pandas.tslib is deprecated and will be removed in a future version.\n",
      "You can access Timestamp as pandas.Timestamp\n",
      "  pd.tslib.Timestamp,\n",
      "/home/mamonu/anaconda3/lib/python3.6/site-packages/ggplot/stats/smoothers.py:4: FutureWarning: The pandas.lib module is deprecated and will be removed in a future version. These are private functions and can be accessed from pandas._libs.lib instead\n",
      "  from pandas.lib import Timestamp\n",
      "/home/mamonu/anaconda3/lib/python3.6/site-packages/statsmodels/compat/pandas.py:56: FutureWarning: The pandas.core.datetools module is deprecated and will be removed in a future version. Please use the pandas.tseries module instead.\n",
      "  from pandas.core import datetools\n"
     ]
    },
    {
     "name": "stdout",
     "output_type": "stream",
     "text": [
      "Area under Curve:  0.984102909785    Brier Score (the lower the better)  0.0655109658847\n"
     ]
    }
   ],
   "source": [
    "\n",
    "from sklearn import metrics\n",
    "from sklearn.metrics import roc_curve, auc,brier_score_loss\n",
    "from ggplot import *\n",
    "\n",
    "preds = trigram_LR_clf.predict_proba(test_X)[:,1]\n",
    "fpr, tpr, _ = metrics.roc_curve(test_y, preds)\n",
    "\n",
    "\n",
    "\n",
    "df = pd.DataFrame(dict(fpr=fpr, tpr=tpr))\n",
    "#ggplot(df, aes(x='fpr', y='tpr')) +\\\n",
    "#    geom_line() + \\\n",
    "#    geom_abline(linetype='dashed')\n",
    "    \n",
    "auc = metrics.auc(fpr,tpr)\n",
    "prob_pos = trigram_LR_clf.predict_proba(test_X)[:, 1]\n",
    "br=brier_score_loss(test_y, prob_pos)\n",
    "print(\"Area under Curve: \",auc,\"   Brier Score (the lower the better) \",br)"
   ]
  },
  {
   "cell_type": "code",
   "execution_count": null,
   "metadata": {
    "collapsed": true
   },
   "outputs": [],
   "source": []
  },
  {
   "cell_type": "code",
   "execution_count": null,
   "metadata": {
    "collapsed": true
   },
   "outputs": [],
   "source": []
  },
  {
   "cell_type": "code",
   "execution_count": 36,
   "metadata": {},
   "outputs": [
    {
     "data": {
      "image/png": "[encoded data removed]",
      "text/plain": [
       "<matplotlib.figure.Figure at 0x7fbb6bacbc50>"
      ]
     },
     "metadata": {},
     "output_type": "display_data"
    },
    {
     "data": {
      "text/plain": [
       "<ggplot: (8777683880894)>"
      ]
     },
     "execution_count": 36,
     "metadata": {},
     "output_type": "execute_result"
    }
   ],
   "source": [
    "ggplot(df, aes(x='fpr', y='tpr')) +\\\n",
    "    geom_line() + \\\n",
    "    geom_abline(linetype='dashed')"
   ]
  },
  {
   "cell_type": "code",
   "execution_count": null,
   "metadata": {
    "collapsed": true
   },
   "outputs": [],
   "source": []
  },
  {
   "cell_type": "code",
   "execution_count": 66,
   "metadata": {},
   "outputs": [
    {
     "data": {
      "image/png": "[encoded data removed]",
      "text/plain": [
       "<matplotlib.figure.Figure at 0x7f0fdec48e48>"
      ]
     },
     "metadata": {},
     "output_type": "display_data"
    }
   ],
   "source": [
    "import matplotlib.pyplot as plt\n",
    "from sklearn.calibration import calibration_curve\n",
    "%matplotlib inline \n",
    "\n",
    "plt.figure(figsize=(10, 10))\n",
    "ax1 = plt.subplot2grid((3, 1), (0, 0), rowspan=2)\n",
    "ax2 = plt.subplot2grid((3, 1), (2, 0))\n",
    "\n",
    "ax1.plot([0, 1], [0, 1], \"k:\", label=\"Perfectly calibrated\")\n",
    "for clf, name in [(FeatUnion_clf, 'Feature Union and LR ')]:\n",
    "    clf.fit(train_X, train_y)\n",
    "    if hasattr(clf, \"predict_proba\"):\n",
    "        prob_pos = clf.predict_proba(test_X)[:, 1]\n",
    "    else:  # use decision function\n",
    "        prob_pos = clf.decision_function(test_X)\n",
    "        prob_pos = \\\n",
    "            (prob_pos - prob_pos.min()) / (prob_pos.max() - prob_pos.min())\n",
    "    fraction_of_positives, mean_predicted_value = \\\n",
    "        calibration_curve(test_y, prob_pos, n_bins=10)\n",
    "\n",
    "    ax1.plot(mean_predicted_value, fraction_of_positives, \"s-\",\n",
    "             label=\"%s\" % (name, ))\n",
    "\n",
    "    ax2.hist(prob_pos, range=(0, 1), bins=20, label=name,\n",
    "             histtype=\"step\", lw=2)\n",
    "\n",
    "ax1.set_ylabel(\"Fraction of positives\")\n",
    "ax1.set_ylim([-0.05, 1.05])\n",
    "ax1.legend(loc=\"lower right\")\n",
    "ax1.set_title('Calibration plots  (reliability curve)')\n",
    "\n",
    "ax2.set_xlabel(\"Mean predicted value\")\n",
    "ax2.set_ylabel(\"Count\")\n",
    "ax2.legend(loc=\"upper center\", ncol=2)\n",
    "\n",
    "plt.tight_layout()\n",
    "plt.show()"
   ]
  },
  {
   "cell_type": "code",
   "execution_count": null,
   "metadata": {
    "collapsed": true
   },
   "outputs": [],
   "source": []
  },
  {
   "cell_type": "code",
   "execution_count": null,
   "metadata": {
    "collapsed": true
   },
   "outputs": [],
   "source": []
  },
  {
   "cell_type": "code",
   "execution_count": null,
   "metadata": {
    "collapsed": true
   },
   "outputs": [],
   "source": []
  },
  {
   "cell_type": "code",
   "execution_count": 2,
   "metadata": {
    "collapsed": true
   },
   "outputs": [],
   "source": [
    "### experimental features : trying unupervised clustering of topics with nonNegative matrix factorization method"
   ]
  },
  {
   "cell_type": "code",
   "execution_count": null,
   "metadata": {
    "collapsed": true
   },
   "outputs": [],
   "source": []
  },
  {
   "cell_type": "code",
   "execution_count": 22,
   "metadata": {
    "collapsed": true
   },
   "outputs": [],
   "source": [
    "def print_top_words(model, feature_names, n_top_words):\n",
    "    for topic_idx, topic in enumerate(model.components_):\n",
    "        print(\"Topic #%d:\" % topic_idx)\n",
    "        print(\" \".join([feature_names[i]\n",
    "                        for i in topic.argsort()[:-n_top_words - 1:-1]]))\n",
    "    print()"
   ]
  },
  {
   "cell_type": "code",
   "execution_count": null,
   "metadata": {
    "collapsed": true
   },
   "outputs": [],
   "source": []
  },
  {
   "cell_type": "code",
   "execution_count": null,
   "metadata": {
    "collapsed": true
   },
   "outputs": [],
   "source": []
  },
  {
   "cell_type": "code",
   "execution_count": 27,
   "metadata": {},
   "outputs": [
    {
     "name": "stdout",
     "output_type": "stream",
     "text": [
      "Extracting tf-idf features for NMF...\n"
     ]
    }
   ],
   "source": [
    "\n",
    "from sklearn.feature_extraction.text import TfidfVectorizer, CountVectorizer\n",
    "from sklearn.decomposition import NMF, LatentDirichletAllocation\n",
    "\n",
    "print(\"Extracting tf-idf features for NMF...\")\n",
    "\n",
    "tfidf_vectorizer = TfidfVectorizer(max_df=0.95, min_df=2,\n",
    "                                   max_features=10000,\n",
    "                                   stop_words='english')\n",
    "\n",
    "tfidf = tfidf_vectorizer.fit_transform(X)\n",
    "\n",
    "\n",
    "nmf = NMF(n_components=10 ,random_state=1,\n",
    "          alpha=.1, l1_ratio=.5).fit(tfidf)\n",
    "\n",
    "\n",
    "\n",
    "\n"
   ]
  },
  {
   "cell_type": "code",
   "execution_count": null,
   "metadata": {
    "collapsed": true
   },
   "outputs": [],
   "source": []
  },
  {
   "cell_type": "code",
   "execution_count": null,
   "metadata": {
    "collapsed": true
   },
   "outputs": [],
   "source": []
  },
  {
   "cell_type": "code",
   "execution_count": null,
   "metadata": {
    "collapsed": true
   },
   "outputs": [],
   "source": []
  },
  {
   "cell_type": "code",
   "execution_count": 28,
   "metadata": {},
   "outputs": [
    {
     "name": "stdout",
     "output_type": "stream",
     "text": [
      "\n",
      "Topics in NMF model:\n",
      "Topic #0:\n",
      "glazed double radiator window upvc rear door aspect facing ceiling\n",
      "Topic #1:\n",
      "holiday letting home like weymouth let need park ll want\n",
      "Topic #2:\n",
      "apartment furnished london station large bedroom double bridge reception located\n",
      "Topic #3:\n",
      "glazed connells buyers double window park property measurements home max\n",
      "Topic #4:\n",
      "room property bedroom garden kitchen bedrooms bathroom rear family dining\n",
      "Topic #5:\n",
      "general particulars property prospective accordingly facing make buyers max fact\n",
      "Topic #6:\n",
      "website material make party available use owner consent reproductions republish\n",
      "Topic #7:\n",
      "kemp littlesea caravan holiday pleased weymouth sale park offer bedroom\n",
      "Topic #8:\n",
      "landlord openrent fees rent tenancy pay reference referencing tenants available\n",
      "Topic #9:\n",
      "park wells north builth wales home town miles mid llandrindod\n",
      "\n"
     ]
    }
   ],
   "source": [
    "print(\"\\nTopics in NMF model:\")\n",
    "tfidf_feature_names = tfidf_vectorizer.get_feature_names()\n",
    "print_top_words(nmf, tfidf_feature_names, 10)"
   ]
  },
  {
   "cell_type": "code",
   "execution_count": null,
   "metadata": {
    "collapsed": true
   },
   "outputs": [],
   "source": []
  },
  {
   "cell_type": "markdown",
   "metadata": {
    "collapsed": true
   },
   "source": [
    "### This is a very simple pipeline using the OneHotEncoding transformation before the classifier"
   ]
  },
  {
   "cell_type": "code",
   "execution_count": 43,
   "metadata": {
    "collapsed": true
   },
   "outputs": [],
   "source": [
    "OHEmodel = Pipeline([\n",
    "        ('vectorizer', CountVectorizer()),\n",
    "        ('onehot', Binarizer()),\n",
    "        ('classifier', LogisticRegression()),\n",
    "])"
   ]
  },
  {
   "cell_type": "code",
   "execution_count": null,
   "metadata": {
    "collapsed": true
   },
   "outputs": [],
   "source": []
  },
  {
   "cell_type": "code",
   "execution_count": null,
   "metadata": {
    "collapsed": true
   },
   "outputs": [],
   "source": []
  },
  {
   "cell_type": "code",
   "execution_count": 44,
   "metadata": {},
   "outputs": [
    {
     "data": {
      "text/plain": [
       "Pipeline(steps=[('vectorizer', CountVectorizer(analyzer='word', binary=False, decode_error='strict',\n",
       "        dtype=<class 'numpy.int64'>, encoding='utf-8', input='content',\n",
       "        lowercase=True, max_df=1.0, max_features=None, min_df=1,\n",
       "        ngram_range=(1, 1), preprocessor=None, stop_words=None,\n",
       "       ...ty='l2', random_state=None, solver='liblinear', tol=0.0001,\n",
       "          verbose=0, warm_start=False))])"
      ]
     },
     "execution_count": 44,
     "metadata": {},
     "output_type": "execute_result"
    }
   ],
   "source": [
    "OHEmodel.fit(train_X,train_y)"
   ]
  },
  {
   "cell_type": "code",
   "execution_count": null,
   "metadata": {
    "collapsed": true
   },
   "outputs": [],
   "source": []
  },
  {
   "cell_type": "code",
   "execution_count": null,
   "metadata": {
    "collapsed": true
   },
   "outputs": [],
   "source": []
  },
  {
   "cell_type": "code",
   "execution_count": 45,
   "metadata": {},
   "outputs": [
    {
     "name": "stdout",
     "output_type": "stream",
     "text": [
      "------------------- pipeline -----------------------\n",
      "[ 0.94007491  0.95131086  0.86516854  0.99250936  0.81203008]\n",
      "0.91221874912\n"
     ]
    }
   ],
   "source": [
    "scores = cross_val_score(OHEmodel, X, y, cv=5)\n",
    "\n",
    "print(\"------------------- pipeline -----------------------\")\n",
    "print (scores)\n",
    "print (np.mean(scores))"
   ]
  },
  {
   "cell_type": "code",
   "execution_count": null,
   "metadata": {
    "collapsed": true
   },
   "outputs": [],
   "source": []
  },
  {
   "cell_type": "code",
   "execution_count": 46,
   "metadata": {},
   "outputs": [
    {
     "name": "stdout",
     "output_type": "stream",
     "text": [
      "2.3532              park                -0.7702             floor\n",
      "1.9429              home                -0.6739             house\n",
      "1.4821                to                -0.6213             first\n",
      "0.9235        themselves                -0.5705         apartment\n",
      "0.7834              over                -0.5662            stairs\n",
      "0.7777              more                -0.5469              flat\n",
      "0.7069               are                -0.5311         available\n",
      "0.6759           caravan                -0.4990           landing\n",
      "0.5030              side                -0.4819             three\n",
      "0.4858           holiday                -0.3738              rear\n",
      "0.4674             about                -0.3676           terrace\n",
      "0.4635              plot                -0.3673            street\n",
      "0.4631         wardrobes                -0.3586             links\n",
      "0.4600              sale                -0.3513         transport\n",
      "0.4434            mobile                -0.3403            second\n"
     ]
    }
   ],
   "source": [
    "print(show_most_informative_features(OHEmodel))"
   ]
  },
  {
   "cell_type": "code",
   "execution_count": null,
   "metadata": {
    "collapsed": true
   },
   "outputs": [],
   "source": []
  },
  {
   "cell_type": "code",
   "execution_count": null,
   "metadata": {
    "collapsed": true
   },
   "outputs": [],
   "source": []
  },
  {
   "cell_type": "code",
   "execution_count": null,
   "metadata": {
    "collapsed": true
   },
   "outputs": [],
   "source": []
  },
  {
   "cell_type": "code",
   "execution_count": null,
   "metadata": {
    "collapsed": true
   },
   "outputs": [],
   "source": []
  },
  {
   "cell_type": "code",
   "execution_count": null,
   "metadata": {
    "collapsed": true
   },
   "outputs": [],
   "source": []
  },
  {
   "cell_type": "code",
   "execution_count": null,
   "metadata": {
    "collapsed": true
   },
   "outputs": [],
   "source": []
  },
  {
   "cell_type": "code",
   "execution_count": null,
   "metadata": {
    "collapsed": true
   },
   "outputs": [],
   "source": []
  },
  {
   "cell_type": "code",
   "execution_count": null,
   "metadata": {
    "collapsed": true
   },
   "outputs": [],
   "source": []
  }
 ],
 "metadata": {
  "kernelspec": {
   "display_name": "Python 3",
   "language": "python",
   "name": "python3"
  },
  "language_info": {
   "codemirror_mode": {
    "name": "ipython",
    "version": 3
   },
   "file_extension": ".py",
   "mimetype": "text/x-python",
   "name": "python",
   "nbconvert_exporter": "python",
   "pygments_lexer": "ipython3",
   "version": "3.6.1"
  }
 },
 "nbformat": 4,
 "nbformat_minor": 2
}
